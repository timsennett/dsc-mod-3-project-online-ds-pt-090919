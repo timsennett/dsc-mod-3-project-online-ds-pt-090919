{
 "cells": [
  {
   "cell_type": "markdown",
   "metadata": {},
   "source": [
    "# Module 3 Project Submission"
   ]
  },
  {
   "cell_type": "markdown",
   "metadata": {},
   "source": [
    "- Student name: Tim Sennett\n",
    "- Student pace: part time\n",
    "- Scheduled project review date/time: Mon., February 3, 3:00 p.m. EST\n",
    "- Instructor name: Abhineet Kulkarni\n",
    "- Blog post URL: http://www.medium.com/@timsennett"
   ]
  },
  {
   "cell_type": "markdown",
   "metadata": {},
   "source": [
    "For this Module 3 Final Project, I'm going to query the Northwind database to obtain the data needed to perform statistical analysis.  In this analysis, I'll perform a number of hypothesis tests to answer the following questions relevant to Northwind Traders' business:\n",
    "\n",
    "1. Does discount amount have a statistically significant effect on the quantity of a product in an order? If so, at what level(s) of discount?\n",
    "2. Does the customer's region have a statistically significant effect on the average value of an order?\n",
    "3. Does the supplier's region have a statistically significant effect on the average revenue made per product, per order?\n",
    "4. Does North America generate significantly more revenue during Quarters 1 and 4 (Fall/Winter) than they do during Quarters 2 and 3 (Spring/Summer)?"
   ]
  },
  {
   "cell_type": "markdown",
   "metadata": {},
   "source": [
    "## Schema Overview\n",
    "\n",
    "Here's an overview of the database. It includes thirteen tables.\n",
    "\n",
    "<img src=\"Northwind_ERD_updated.png\">"
   ]
  },
  {
   "cell_type": "code",
   "execution_count": 121,
   "metadata": {},
   "outputs": [
    {
     "name": "stdout",
     "output_type": "stream",
     "text": [
      "CONTRIBUTING.md                Northwind_small.sqlite\r\n",
      "LICENSE.md                     README.md\r\n",
      "Northwind-project.ipynb        adventureworks2008_schema.gif\r\n",
      "Northwind_ERD.png              halfway-there.gif\r\n",
      "Northwind_ERD_updated.png      module3_project_rubric.pdf\r\n"
     ]
    }
   ],
   "source": [
    "ls"
   ]
  },
  {
   "cell_type": "code",
   "execution_count": 1,
   "metadata": {},
   "outputs": [],
   "source": [
    "# Import SQLite, connect to the Northwind database, and create cursor.\n",
    "\n",
    "import sqlite3\n",
    "conn = sqlite3.connect('Northwind_small.sqlite')\n",
    "cur = conn.cursor()"
   ]
  },
  {
   "cell_type": "code",
   "execution_count": 2,
   "metadata": {},
   "outputs": [],
   "source": [
    "# Import necessary libraries\n",
    "\n",
    "import pandas as pd\n",
    "import numpy as np\n",
    "import matplotlib.pyplot as plt\n",
    "%matplotlib inline\n",
    "import seaborn as sns\n",
    "from scipy import stats\n",
    "import scipy.stats\n",
    "import itertools\n",
    "import statsmodels.api as sm\n",
    "from statsmodels.formula.api import ols\n",
    "from statsmodels.stats.power import TTestIndPower, TTestPower\n",
    "power_analysis = TTestIndPower()\n",
    "\n",
    "import warnings\n",
    "warnings.filterwarnings('ignore')"
   ]
  },
  {
   "cell_type": "markdown",
   "metadata": {},
   "source": [
    "Now that I've connected to the database and imported the necessary libraries, I'm going to define a couple of functions for measuring and visualizing effect size (the size of the difference between two groups under observation) that will end up coming in handy as I work through the process of conducting my hypethesis tests.\n",
    "\n",
    "### Function for Cohen's d"
   ]
  },
  {
   "cell_type": "code",
   "execution_count": 3,
   "metadata": {},
   "outputs": [],
   "source": [
    "def Cohen_d(group1, group2):\n",
    "    '''Compute Cohen's d.\n",
    "       \n",
    "       group1: Series or NumPy array\n",
    "       group2: Series or NumPy array\n",
    "\n",
    "       returns a floating point number'''\n",
    "\n",
    "    diff = group1.mean() - group2.mean()\n",
    "\n",
    "    n1, n2 = len(group1), len(group2)\n",
    "    var1 = group1.var()\n",
    "    var2 = group2.var()\n",
    "\n",
    "    # Calculate the pooled threshold\n",
    "    pooled_var = (n1 * var1 + n2 * var2) / (n1 + n2)\n",
    "    \n",
    "    # Calculate Cohen's d statistic\n",
    "    d = diff / np.sqrt(pooled_var)\n",
    "    \n",
    "    return abs(d)"
   ]
  },
  {
   "cell_type": "code",
   "execution_count": 4,
   "metadata": {},
   "outputs": [],
   "source": [
    "def evaluate_PDF(rv, x=4):\n",
    "    '''Input: a random variable object, standard deviation\n",
    "    output : x and y values for the normal distribution\n",
    "    '''\n",
    "    \n",
    "    # Identify the mean and standard deviation of random variable \n",
    "    mean = rv.mean()\n",
    "    std = rv.std()\n",
    "\n",
    "    # Use numpy to calculate evenly spaced numbers over the specified interval (4 sd) and generate 100 samples.\n",
    "    xs = np.linspace(mean - x*std, mean + x*std, 100)\n",
    "    \n",
    "    # Calculate the peak of normal distribution i.e. probability density. \n",
    "    ys = rv.pdf(xs)\n",
    "\n",
    "    return xs, ys # Return calculated values"
   ]
  },
  {
   "cell_type": "code",
   "execution_count": 5,
   "metadata": {},
   "outputs": [],
   "source": [
    "def overlap_superiority(group1, group2, n=1000):\n",
    "    \"\"\"Estimates overlap and superiority based on a sample.\n",
    "    \n",
    "    group1: scipy.stats rv object\n",
    "    group2: scipy.stats rv object\n",
    "    n: sample size\n",
    "    \"\"\"\n",
    "\n",
    "    # Get a sample of size n from both groups\n",
    "    group1_sample = group1.rvs(n)\n",
    "    group2_sample = group2.rvs(n)\n",
    "    \n",
    "    # Identify the threshold between samples\n",
    "    thresh = (group1.mean() + group2.mean()) / 2\n",
    "    print(thresh)\n",
    "    \n",
    "    # Calculate no. of values above and below for group 1 and group 2 respectively\n",
    "    above = sum(group1_sample < thresh)\n",
    "    below = sum(group2_sample > thresh)\n",
    "    \n",
    "    # Calculate the overlap\n",
    "    overlap = (above + below) / n\n",
    "    \n",
    "    # Calculate probability of superiority\n",
    "    superiority = sum(x > y for x, y in zip(group1_sample, group2_sample)) / n\n",
    "\n",
    "    return overlap, superiority"
   ]
  },
  {
   "cell_type": "code",
   "execution_count": 6,
   "metadata": {},
   "outputs": [],
   "source": [
    "def plot_pdfs(cohen_d=2):\n",
    "    \"\"\"Plot PDFs for distributions that differ by some number of stds.\n",
    "    \n",
    "    cohen_d: number of standard deviations between the means\n",
    "    \"\"\"\n",
    "    group1 = scipy.stats.norm(0, 1)\n",
    "    group2 = scipy.stats.norm(cohen_d, 1)\n",
    "    xs, ys = evaluate_PDF(group1)\n",
    "    plt.fill_between(xs, ys, label='Control', color='#ff2289', alpha=0.7)\n",
    "\n",
    "    xs, ys = evaluate_PDF(group2)\n",
    "    plt.fill_between(xs, ys, label='Experimental', color='#376cb0', alpha=0.7)\n",
    "    plt.legend()\n",
    "    \n",
    "    o, s = overlap_superiority(group1, group2)\n",
    "    print('overlap', o)\n",
    "    print('superiority', s)"
   ]
  },
  {
   "cell_type": "markdown",
   "metadata": {},
   "source": [
    "Now let's get to tackling these questions, starting with #1."
   ]
  },
  {
   "cell_type": "markdown",
   "metadata": {},
   "source": [
    "## Question 1:\n",
    "\n",
    "***Does discount amount have a statistically significant effect on the quantity of a product in an order? If so, at what level(s) of discount?***\n",
    "\n",
    "- **Null Hypothesis**: Products priced at a discount are purchased in equal quantity per order as products not purchased at a discount.\n",
    "\n",
    "- **Alternative Hypothesis**: Products priced at a discount are purchased in greater quantity per order as products not purchased at a discount."
   ]
  },
  {
   "cell_type": "markdown",
   "metadata": {},
   "source": [
    "For this one-tailed test, **an alpha level of 0.025 will be used**."
   ]
  },
  {
   "cell_type": "markdown",
   "metadata": {},
   "source": [
    "The first step toward answering this question is to extract the appropriate data, namely, Quantity and Discount.\n",
    "\n",
    "Then, I'll create control and experimental groups, with the former including the quantity of each product per order when there is no discount, and the latter containing the quantity of each product per order when there is a discount."
   ]
  },
  {
   "cell_type": "code",
   "execution_count": 7,
   "metadata": {
    "scrolled": false
   },
   "outputs": [
    {
     "data": {
      "text/html": [
       "<div>\n",
       "<style scoped>\n",
       "    .dataframe tbody tr th:only-of-type {\n",
       "        vertical-align: middle;\n",
       "    }\n",
       "\n",
       "    .dataframe tbody tr th {\n",
       "        vertical-align: top;\n",
       "    }\n",
       "\n",
       "    .dataframe thead th {\n",
       "        text-align: right;\n",
       "    }\n",
       "</style>\n",
       "<table border=\"1\" class=\"dataframe\">\n",
       "  <thead>\n",
       "    <tr style=\"text-align: right;\">\n",
       "      <th></th>\n",
       "      <th>Quantity</th>\n",
       "      <th>Discount</th>\n",
       "    </tr>\n",
       "  </thead>\n",
       "  <tbody>\n",
       "    <tr>\n",
       "      <th>0</th>\n",
       "      <td>12</td>\n",
       "      <td>0.0</td>\n",
       "    </tr>\n",
       "    <tr>\n",
       "      <th>1</th>\n",
       "      <td>10</td>\n",
       "      <td>0.0</td>\n",
       "    </tr>\n",
       "    <tr>\n",
       "      <th>2</th>\n",
       "      <td>5</td>\n",
       "      <td>0.0</td>\n",
       "    </tr>\n",
       "    <tr>\n",
       "      <th>3</th>\n",
       "      <td>9</td>\n",
       "      <td>0.0</td>\n",
       "    </tr>\n",
       "    <tr>\n",
       "      <th>4</th>\n",
       "      <td>40</td>\n",
       "      <td>0.0</td>\n",
       "    </tr>\n",
       "  </tbody>\n",
       "</table>\n",
       "</div>"
      ],
      "text/plain": [
       "   Quantity  Discount\n",
       "0        12       0.0\n",
       "1        10       0.0\n",
       "2         5       0.0\n",
       "3         9       0.0\n",
       "4        40       0.0"
      ]
     },
     "execution_count": 7,
     "metadata": {},
     "output_type": "execute_result"
    }
   ],
   "source": [
    "cur.execute(\"\"\"SELECT Quantity, Discount\n",
    "               FROM OrderDetail;\"\"\")\n",
    "df1 = pd.DataFrame(cur.fetchall())\n",
    "df1.columns = [x[0] for x in cur.description]\n",
    "df1.head()"
   ]
  },
  {
   "cell_type": "code",
   "execution_count": 8,
   "metadata": {},
   "outputs": [],
   "source": [
    "# Making two subsets of the data: no discount, and discount\n",
    "\n",
    "no_discount_df = df1[df1['Discount'] == 0]['Quantity']\n",
    "discount_df = df1[df1['Discount'] != 0]['Quantity']"
   ]
  },
  {
   "cell_type": "code",
   "execution_count": 9,
   "metadata": {
    "scrolled": false
   },
   "outputs": [
    {
     "data": {
      "text/plain": [
       "0     12\n",
       "1     10\n",
       "2      5\n",
       "3      9\n",
       "4     40\n",
       "5     10\n",
       "10    20\n",
       "13    40\n",
       "Name: Quantity, dtype: int64"
      ]
     },
     "execution_count": 9,
     "metadata": {},
     "output_type": "execute_result"
    }
   ],
   "source": [
    "no_discount_df.head(8)"
   ]
  },
  {
   "cell_type": "code",
   "execution_count": 10,
   "metadata": {
    "scrolled": true
   },
   "outputs": [
    {
     "data": {
      "text/plain": [
       "6     35\n",
       "7     15\n",
       "8      6\n",
       "9     15\n",
       "11    40\n",
       "12    25\n",
       "17    15\n",
       "18    21\n",
       "Name: Quantity, dtype: int64"
      ]
     },
     "execution_count": 10,
     "metadata": {},
     "output_type": "execute_result"
    }
   ],
   "source": [
    "discount_df.head(8)"
   ]
  },
  {
   "cell_type": "code",
   "execution_count": 11,
   "metadata": {
    "scrolled": false
   },
   "outputs": [
    {
     "name": "stdout",
     "output_type": "stream",
     "text": [
      "There were 838 instances of a product being sold at discount.\n",
      "There were 1317 instances of a product being sold at no discount.\n",
      "\n",
      "The company has sold its products at 10 different discount levels.\n"
     ]
    }
   ],
   "source": [
    "print(\"There were {} instances of a product being sold at discount.\".format(len(discount_df)))\n",
    "print(\"There were {} instances of a product being sold at no discount.\\n\".format(len(no_discount_df)))\n",
    "print(\"The company has sold its products at {} different discount levels.\"\n",
    "      .format(df1.Discount.nunique() - 1)) # subtract 1 because \"discount\" of 0.0 shouldn't be included in count"
   ]
  },
  {
   "cell_type": "markdown",
   "metadata": {},
   "source": [
    "Before proceeding further, let's get a glimpse of how discount may impact the quantity of products ordered."
   ]
  },
  {
   "cell_type": "code",
   "execution_count": 12,
   "metadata": {
    "scrolled": true
   },
   "outputs": [
    {
     "data": {
      "image/png": "[encoded data removed]",
      "text/plain": [
       "<Figure size 576x360 with 1 Axes>"
      ]
     },
     "metadata": {
      "needs_background": "light"
     },
     "output_type": "display_data"
    }
   ],
   "source": [
    "plt.figure(figsize=(8,5))\n",
    "sns.barplot(df1.Discount, df1.Quantity)\n",
    "plt.title(\"Discount's Effect on Average Product Quantity Per Order\")\n",
    "plt.show()"
   ]
  },
  {
   "cell_type": "markdown",
   "metadata": {},
   "source": [
    "- Evidently, products discounted at 0.05 or more tend to be ordered in much greater quantity than products discounted at less than 0.05. (The lone exception is the 0.06 discount level.)\n",
    "\n",
    "- The most heavily applied discount levels are 0.05, 0.1, 0.15, 0.2 and 0.25.\n",
    "\n",
    "- Non-discounted products are still ordered in greater quantity than lightly discounted (0.01–0.04) products.\n",
    "\n",
    "Now that I'm looking at this, I wonder how many times the .01, .02, .03, .04 and .06 discounts have been applied anyway?"
   ]
  },
  {
   "cell_type": "code",
   "execution_count": 13,
   "metadata": {},
   "outputs": [
    {
     "name": "stdout",
     "output_type": "stream",
     "text": [
      "Discount levels: [0.   0.01 0.02 0.03 0.04 0.05 0.06 0.1  0.15 0.2  0.25]\n"
     ]
    }
   ],
   "source": [
    "# Create array of discount levels\n",
    "\n",
    "discount_levels = df1['Discount'].unique()\n",
    "discount_levels.sort()\n",
    "\n",
    "print('Discount levels:', discount_levels)"
   ]
  },
  {
   "cell_type": "code",
   "execution_count": 14,
   "metadata": {},
   "outputs": [],
   "source": [
    "# Populate a dictionary wherein each discount level is a key\n",
    "# and the dict values are comprised of the index, product quantity per order,\n",
    "# and corresponding discount level\n",
    "\n",
    "levels = {}\n",
    "for i in discount_levels:\n",
    "    levels[i] = df1[df1['Discount']==i]"
   ]
  },
  {
   "cell_type": "code",
   "execution_count": 15,
   "metadata": {},
   "outputs": [
    {
     "data": {
      "text/plain": [
       "(dict_keys([0.0, 0.01, 0.02, 0.03, 0.04, 0.05, 0.06, 0.1, 0.15, 0.2, 0.25]),\n",
       " dict_values([      Quantity  Discount\n",
       " 0           12       0.0\n",
       " 1           10       0.0\n",
       " 2            5       0.0\n",
       " 3            9       0.0\n",
       " 4           40       0.0\n",
       " 5           10       0.0\n",
       " 10          20       0.0\n",
       " 13          40       0.0\n",
       " 14          20       0.0\n",
       " 15          42       0.0\n",
       " 16          40       0.0\n",
       " 19          21       0.0\n",
       " 20          20       0.0\n",
       " 21          35       0.0\n",
       " 22          25       0.0\n",
       " 23          30       0.0\n",
       " 24          15       0.0\n",
       " 25          12       0.0\n",
       " 26          25       0.0\n",
       " 27           6       0.0\n",
       " 28          15       0.0\n",
       " 32          10       0.0\n",
       " 33           1       0.0\n",
       " 35          50       0.0\n",
       " 38          20       0.0\n",
       " 39          20       0.0\n",
       " 41          15       0.0\n",
       " 42           2       0.0\n",
       " 44          28       0.0\n",
       " 47          35       0.0\n",
       " ...        ...       ...\n",
       " 2088         4       0.0\n",
       " 2089        10       0.0\n",
       " 2090        15       0.0\n",
       " 2093        30       0.0\n",
       " 2097        12       0.0\n",
       " 2100        55       0.0\n",
       " 2103         3       0.0\n",
       " 2104        42       0.0\n",
       " 2105        35       0.0\n",
       " 2106         9       0.0\n",
       " 2110        20       0.0\n",
       " 2114        20       0.0\n",
       " 2117         8       0.0\n",
       " 2118        40       0.0\n",
       " 2119        22       0.0\n",
       " 2120       130       0.0\n",
       " 2121        10       0.0\n",
       " 2122        20       0.0\n",
       " 2131         4       0.0\n",
       " 2132         1       0.0\n",
       " 2136         1       0.0\n",
       " 2138         4       0.0\n",
       " 2142         2       0.0\n",
       " 2143         1       0.0\n",
       " 2145         3       0.0\n",
       " 2147         2       0.0\n",
       " 2148         2       0.0\n",
       " 2151         1       0.0\n",
       " 2153         4       0.0\n",
       " 2154         2       0.0\n",
       " \n",
       " [1317 rows x 2 columns],       Quantity  Discount\n",
       " 2152         2      0.01,       Quantity  Discount\n",
       " 2133         1      0.02\n",
       " 2146         3      0.02,       Quantity  Discount\n",
       " 2139         1      0.03\n",
       " 2140         2      0.03\n",
       " 2150         2      0.03,       Quantity  Discount\n",
       " 2141         1      0.04,       Quantity  Discount\n",
       " 8            6      0.05\n",
       " 9           15      0.05\n",
       " 11          40      0.05\n",
       " 12          25      0.05\n",
       " 51          12      0.05\n",
       " 57          60      0.05\n",
       " 58          20      0.05\n",
       " 65          24      0.05\n",
       " 66          15      0.05\n",
       " 68          60      0.05\n",
       " 69          33      0.05\n",
       " 72          12      0.05\n",
       " 73           6      0.05\n",
       " 216         10      0.05\n",
       " 217          8      0.05\n",
       " 218         20      0.05\n",
       " 219         12      0.05\n",
       " 244         70      0.05\n",
       " 246         20      0.05\n",
       " 247         12      0.05\n",
       " 248         40      0.05\n",
       " 256          4      0.05\n",
       " 274         20      0.05\n",
       " 276         77      0.05\n",
       " 277         10      0.05\n",
       " 292         10      0.05\n",
       " 293         10      0.05\n",
       " 294         20      0.05\n",
       " 295         56      0.05\n",
       " 296         70      0.05\n",
       " ...        ...       ...\n",
       " 1691       120      0.05\n",
       " 1712        20      0.05\n",
       " 1715        20      0.05\n",
       " 1716        14      0.05\n",
       " 1822        15      0.05\n",
       " 1823         6      0.05\n",
       " 1824        50      0.05\n",
       " 1825        16      0.05\n",
       " 1827        50      0.05\n",
       " 1828        50      0.05\n",
       " 1846         6      0.05\n",
       " 1926        18      0.05\n",
       " 1937        20      0.05\n",
       " 1938        15      0.05\n",
       " 1939        21      0.05\n",
       " 1963        70      0.05\n",
       " 1964        90      0.05\n",
       " 1971        40      0.05\n",
       " 1973        50      0.05\n",
       " 1974        36      0.05\n",
       " 1975        60      0.05\n",
       " 2057        20      0.05\n",
       " 2058        15      0.05\n",
       " 2059        18      0.05\n",
       " 2115        15      0.05\n",
       " 2116        10      0.05\n",
       " 2123        14      0.05\n",
       " 2134         1      0.05\n",
       " 2137         2      0.05\n",
       " 2144         2      0.05\n",
       " \n",
       " [185 rows x 2 columns],       Quantity  Discount\n",
       " 2149         2      0.06,       Quantity  Discount\n",
       " 107         10       0.1\n",
       " 108          3       0.1\n",
       " 115         20       0.1\n",
       " 116         24       0.1\n",
       " 117          2       0.1\n",
       " 147         40       0.1\n",
       " 148         30       0.1\n",
       " 149         15       0.1\n",
       " 153         25       0.1\n",
       " 154         25       0.1\n",
       " 155         30       0.1\n",
       " 177         40       0.1\n",
       " 178         30       0.1\n",
       " 179         25       0.1\n",
       " 227         10       0.1\n",
       " 228         40       0.1\n",
       " 235         18       0.1\n",
       " 263         36       0.1\n",
       " 272         15       0.1\n",
       " 273         18       0.1\n",
       " 303         54       0.1\n",
       " 304         55       0.1\n",
       " 320          5       0.1\n",
       " 321         13       0.1\n",
       " 323         35       0.1\n",
       " 344          8       0.1\n",
       " 345         16       0.1\n",
       " 346         20       0.1\n",
       " 347         18       0.1\n",
       " 348         20       0.1\n",
       " ...        ...       ...\n",
       " 1547        30       0.1\n",
       " 1548        15       0.1\n",
       " 1561        70       0.1\n",
       " 1562        25       0.1\n",
       " 1563        42       0.1\n",
       " 1564        60       0.1\n",
       " 1628        42       0.1\n",
       " 1646        21       0.1\n",
       " 1753        20       0.1\n",
       " 1754        30       0.1\n",
       " 1776        30       0.1\n",
       " 1777        14       0.1\n",
       " 1779        20       0.1\n",
       " 1901        36       0.1\n",
       " 1902         8       0.1\n",
       " 1903        35       0.1\n",
       " 1912        40       0.1\n",
       " 1980        28       0.1\n",
       " 2007        10       0.1\n",
       " 2008        20       0.1\n",
       " 2029        70       0.1\n",
       " 2030        36       0.1\n",
       " 2031        15       0.1\n",
       " 2065        50       0.1\n",
       " 2094        40       0.1\n",
       " 2095        30       0.1\n",
       " 2096        77       0.1\n",
       " 2098        25       0.1\n",
       " 2099         4       0.1\n",
       " 2135         2       0.1\n",
       " \n",
       " [173 rows x 2 columns],       Quantity  Discount\n",
       " 6           35      0.15\n",
       " 7           15      0.15\n",
       " 17          15      0.15\n",
       " 18          21      0.15\n",
       " 48          25      0.15\n",
       " 53          70      0.15\n",
       " 54          15      0.15\n",
       " 104         40      0.15\n",
       " 106         15      0.15\n",
       " 196         21      0.15\n",
       " 197         70      0.15\n",
       " 199         40      0.15\n",
       " 200         80      0.15\n",
       " 220         50      0.15\n",
       " 221         25      0.15\n",
       " 250          9      0.15\n",
       " 266         50      0.15\n",
       " 268          6      0.15\n",
       " 269         15      0.15\n",
       " 279         20      0.15\n",
       " 326         15      0.15\n",
       " 328         20      0.15\n",
       " 341         20      0.15\n",
       " 342         20      0.15\n",
       " 397         10      0.15\n",
       " 398         18      0.15\n",
       " 414         21      0.15\n",
       " 415         70      0.15\n",
       " 463          4      0.15\n",
       " 465         15      0.15\n",
       " ...        ...       ...\n",
       " 1757        12      0.15\n",
       " 1774        42      0.15\n",
       " 1793        10      0.15\n",
       " 1794        40      0.15\n",
       " 1829        28      0.15\n",
       " 1830        25      0.15\n",
       " 1832        24      0.15\n",
       " 1843        20      0.15\n",
       " 1853         2      0.15\n",
       " 1859        12      0.15\n",
       " 1860        12      0.15\n",
       " 1882        20      0.15\n",
       " 1883        40      0.15\n",
       " 1885         6      0.15\n",
       " 1896        84      0.15\n",
       " 1917        60      0.15\n",
       " 1918        65      0.15\n",
       " 1919        66      0.15\n",
       " 1948        15      0.15\n",
       " 1949        24      0.15\n",
       " 1993        24      0.15\n",
       " 2107         8      0.15\n",
       " 2108        36      0.15\n",
       " 2109        28      0.15\n",
       " 2111        40      0.15\n",
       " 2112        20      0.15\n",
       " 2113        30      0.15\n",
       " 2124        10      0.15\n",
       " 2125        30      0.15\n",
       " 2126         2      0.15\n",
       " \n",
       " [157 rows x 2 columns],       Quantity  Discount\n",
       " 29          50       0.2\n",
       " 30          65       0.2\n",
       " 31           6       0.2\n",
       " 40          12       0.2\n",
       " 99          45       0.2\n",
       " 100         40       0.2\n",
       " 101         36       0.2\n",
       " 209         25       0.2\n",
       " 210         50       0.2\n",
       " 211         35       0.2\n",
       " 212         30       0.2\n",
       " 223         40       0.2\n",
       " 224         10       0.2\n",
       " 225         16       0.2\n",
       " 231          7       0.2\n",
       " 232         25       0.2\n",
       " 233          6       0.2\n",
       " 234         48       0.2\n",
       " 251         24       0.2\n",
       " 252         56       0.2\n",
       " 253         40       0.2\n",
       " 254         40       0.2\n",
       " 280         12       0.2\n",
       " 281         50       0.2\n",
       " 289         30       0.2\n",
       " 291          8       0.2\n",
       " 329          6       0.2\n",
       " 334         80       0.2\n",
       " 335         50       0.2\n",
       " 362         10       0.2\n",
       " ...        ...       ...\n",
       " 1572        36       0.2\n",
       " 1573        45       0.2\n",
       " 1574        55       0.2\n",
       " 1656        30       0.2\n",
       " 1657        30       0.2\n",
       " 1658        50       0.2\n",
       " 1750        10       0.2\n",
       " 1751        10       0.2\n",
       " 1752        24       0.2\n",
       " 1772        25       0.2\n",
       " 1773        30       0.2\n",
       " 1786        30       0.2\n",
       " 1833        12       0.2\n",
       " 1867        40       0.2\n",
       " 1892        40       0.2\n",
       " 1920        50       0.2\n",
       " 1921        20       0.2\n",
       " 1922        90       0.2\n",
       " 2041         5       0.2\n",
       " 2049        30       0.2\n",
       " 2063        10       0.2\n",
       " 2064         4       0.2\n",
       " 2066        10       0.2\n",
       " 2067        30       0.2\n",
       " 2068        10       0.2\n",
       " 2069        35       0.2\n",
       " 2071        25       0.2\n",
       " 2091        10       0.2\n",
       " 2092        12       0.2\n",
       " 2130        24       0.2\n",
       " \n",
       " [161 rows x 2 columns],       Quantity  Discount\n",
       " 34          16      0.25\n",
       " 36          15      0.25\n",
       " 37          21      0.25\n",
       " 43          60      0.25\n",
       " 45          60      0.25\n",
       " 46          36      0.25\n",
       " 82          15      0.25\n",
       " 95          15      0.25\n",
       " 97          20      0.25\n",
       " 98           5      0.25\n",
       " 135         40      0.25\n",
       " 136         30      0.25\n",
       " 259         70      0.25\n",
       " 325         18      0.25\n",
       " 330         12      0.25\n",
       " 331         40      0.25\n",
       " 332         70      0.25\n",
       " 333         42      0.25\n",
       " 384         25      0.25\n",
       " 385         42      0.25\n",
       " 386          7      0.25\n",
       " 387         70      0.25\n",
       " 450          2      0.25\n",
       " 451         36      0.25\n",
       " 473         10      0.25\n",
       " 474         20      0.25\n",
       " 480         35      0.25\n",
       " 485         50      0.25\n",
       " 486         50      0.25\n",
       " 487         30      0.25\n",
       " ...        ...       ...\n",
       " 1791        49      0.25\n",
       " 1792        35      0.25\n",
       " 1797        44      0.25\n",
       " 1798        30      0.25\n",
       " 1799        80      0.25\n",
       " 1805         5      0.25\n",
       " 1806        18      0.25\n",
       " 1844        10      0.25\n",
       " 1924        50      0.25\n",
       " 1925        35      0.25\n",
       " 1931        20      0.25\n",
       " 1932        20      0.25\n",
       " 1940        25      0.25\n",
       " 1941        30      0.25\n",
       " 1959         2      0.25\n",
       " 1967        18      0.25\n",
       " 1994        11      0.25\n",
       " 1997        44      0.25\n",
       " 2011        30      0.25\n",
       " 2012        21      0.25\n",
       " 2017       100      0.25\n",
       " 2019        60      0.25\n",
       " 2020       100      0.25\n",
       " 2060        25      0.25\n",
       " 2061        30      0.25\n",
       " 2101         4      0.25\n",
       " 2102        20      0.25\n",
       " 2127        20      0.25\n",
       " 2128        20      0.25\n",
       " 2129        10      0.25\n",
       " \n",
       " [154 rows x 2 columns]]))"
      ]
     },
     "execution_count": 15,
     "metadata": {},
     "output_type": "execute_result"
    }
   ],
   "source": [
    "# sanity check\n",
    "\n",
    "levels.keys(), levels.values()"
   ]
  },
  {
   "cell_type": "code",
   "execution_count": 16,
   "metadata": {
    "scrolled": true
   },
   "outputs": [
    {
     "data": {
      "text/html": [
       "<div>\n",
       "<style scoped>\n",
       "    .dataframe tbody tr th:only-of-type {\n",
       "        vertical-align: middle;\n",
       "    }\n",
       "\n",
       "    .dataframe tbody tr th {\n",
       "        vertical-align: top;\n",
       "    }\n",
       "\n",
       "    .dataframe thead th {\n",
       "        text-align: right;\n",
       "    }\n",
       "</style>\n",
       "<table border=\"1\" class=\"dataframe\">\n",
       "  <thead>\n",
       "    <tr style=\"text-align: right;\">\n",
       "      <th></th>\n",
       "      <th>Discount Level</th>\n",
       "      <th>Product Orders</th>\n",
       "      <th>Avg. Product Quantity per Order</th>\n",
       "    </tr>\n",
       "  </thead>\n",
       "  <tbody>\n",
       "    <tr>\n",
       "      <th>0</th>\n",
       "      <td>0.00</td>\n",
       "      <td>1317.0</td>\n",
       "      <td>21.715262</td>\n",
       "    </tr>\n",
       "    <tr>\n",
       "      <th>1</th>\n",
       "      <td>0.01</td>\n",
       "      <td>1.0</td>\n",
       "      <td>2.000000</td>\n",
       "    </tr>\n",
       "    <tr>\n",
       "      <th>2</th>\n",
       "      <td>0.02</td>\n",
       "      <td>2.0</td>\n",
       "      <td>2.000000</td>\n",
       "    </tr>\n",
       "    <tr>\n",
       "      <th>3</th>\n",
       "      <td>0.03</td>\n",
       "      <td>3.0</td>\n",
       "      <td>1.666667</td>\n",
       "    </tr>\n",
       "    <tr>\n",
       "      <th>4</th>\n",
       "      <td>0.04</td>\n",
       "      <td>1.0</td>\n",
       "      <td>1.000000</td>\n",
       "    </tr>\n",
       "    <tr>\n",
       "      <th>5</th>\n",
       "      <td>0.05</td>\n",
       "      <td>185.0</td>\n",
       "      <td>28.010811</td>\n",
       "    </tr>\n",
       "    <tr>\n",
       "      <th>6</th>\n",
       "      <td>0.06</td>\n",
       "      <td>1.0</td>\n",
       "      <td>2.000000</td>\n",
       "    </tr>\n",
       "    <tr>\n",
       "      <th>7</th>\n",
       "      <td>0.10</td>\n",
       "      <td>173.0</td>\n",
       "      <td>25.236994</td>\n",
       "    </tr>\n",
       "    <tr>\n",
       "      <th>8</th>\n",
       "      <td>0.15</td>\n",
       "      <td>157.0</td>\n",
       "      <td>28.382166</td>\n",
       "    </tr>\n",
       "    <tr>\n",
       "      <th>9</th>\n",
       "      <td>0.20</td>\n",
       "      <td>161.0</td>\n",
       "      <td>27.024845</td>\n",
       "    </tr>\n",
       "    <tr>\n",
       "      <th>10</th>\n",
       "      <td>0.25</td>\n",
       "      <td>154.0</td>\n",
       "      <td>28.240260</td>\n",
       "    </tr>\n",
       "  </tbody>\n",
       "</table>\n",
       "</div>"
      ],
      "text/plain": [
       "    Discount Level  Product Orders  Avg. Product Quantity per Order\n",
       "0             0.00          1317.0                        21.715262\n",
       "1             0.01             1.0                         2.000000\n",
       "2             0.02             2.0                         2.000000\n",
       "3             0.03             3.0                         1.666667\n",
       "4             0.04             1.0                         1.000000\n",
       "5             0.05           185.0                        28.010811\n",
       "6             0.06             1.0                         2.000000\n",
       "7             0.10           173.0                        25.236994\n",
       "8             0.15           157.0                        28.382166\n",
       "9             0.20           161.0                        27.024845\n",
       "10            0.25           154.0                        28.240260"
      ]
     },
     "execution_count": 16,
     "metadata": {},
     "output_type": "execute_result"
    }
   ],
   "source": [
    "# Create new dataframe that tells me the number of instances each discount level has\n",
    "# been applied, and the average product quantity per order at each discount level\n",
    "\n",
    "discount_levels_df = pd.DataFrame(columns=['Discount Level','Product Orders','Avg. Product Quantity per Order'])\n",
    "\n",
    "for i in levels.keys():\n",
    "    discount_levels_df = discount_levels_df.append({'Discount Level':i,'Product Orders':len(levels[i]),\n",
    "                                                    'Avg. Product Quantity per Order':levels[i]['Quantity'].mean()},\n",
    "                                                    ignore_index=True)\n",
    "\n",
    "discount_levels_df"
   ]
  },
  {
   "cell_type": "markdown",
   "metadata": {},
   "source": [
    "The .01, .02, .03, .04 and .06 discounts have been applied so seldom (on only 1–3 occassions each). And in the rare occasions that there are applied, the quantities have been quite small. It makes a lot of sense to drop those observations from the data."
   ]
  },
  {
   "cell_type": "code",
   "execution_count": 17,
   "metadata": {},
   "outputs": [
    {
     "data": {
      "text/plain": [
       "array([0.  , 0.15, 0.05, 0.2 , 0.25, 0.1 ])"
      ]
     },
     "execution_count": 17,
     "metadata": {},
     "output_type": "execute_result"
    }
   ],
   "source": [
    "uncommon_discounts = [0.01, 0.02, 0.03, 0.04, 0.06]\n",
    "\n",
    "for i in uncommon_discounts:\n",
    "    df1 = df1[df1.Discount != i]\n",
    "    \n",
    "df1.Discount.unique()"
   ]
  },
  {
   "cell_type": "markdown",
   "metadata": {},
   "source": [
    "Now, with those lesser used discount levels removed from the data, I'll once again create my control and experimental groups."
   ]
  },
  {
   "cell_type": "code",
   "execution_count": 18,
   "metadata": {},
   "outputs": [],
   "source": [
    "no_discount_df = df1[df1['Discount'] == 0]['Quantity'] # control\n",
    "discount_df = df1[df1['Discount'] != 0]['Quantity']    # experimental"
   ]
  },
  {
   "cell_type": "code",
   "execution_count": 19,
   "metadata": {
    "scrolled": false
   },
   "outputs": [
    {
     "data": {
      "image/png": "[encoded data removed]",
      "text/plain": [
       "<Figure size 576x360 with 1 Axes>"
      ]
     },
     "metadata": {
      "needs_background": "light"
     },
     "output_type": "display_data"
    }
   ],
   "source": [
    "plt.figure(figsize=(8,5))\n",
    "sns.barplot(df1.Discount, df1.Quantity)\n",
    "plt.title(\"Discount's Effect on Average Product Quantity Per Order\")\n",
    "plt.show()"
   ]
  },
  {
   "cell_type": "markdown",
   "metadata": {},
   "source": [
    "Because all evidence points to discounts *increasing* the quantity of products in an order (see above bar graph, where every level of discount results in greater product quantities per order than when there is no discount), **I'll perform a one-tailed Welch's t-test** to determine whether or not I can reject the null hypothesis. (Welch's was chosen to correct for the sizable difference in sample size.)"
   ]
  },
  {
   "cell_type": "code",
   "execution_count": 24,
   "metadata": {},
   "outputs": [
    {
     "data": {
      "text/plain": [
       "(27.35421686746988, 21.715261958997722)"
      ]
     },
     "execution_count": 24,
     "metadata": {},
     "output_type": "execute_result"
    }
   ],
   "source": [
    "# Average order quantity with and without discounts\n",
    "\n",
    "discount_df.mean(), no_discount_df.mean()"
   ]
  },
  {
   "cell_type": "code",
   "execution_count": 20,
   "metadata": {
    "scrolled": true
   },
   "outputs": [
    {
     "name": "stdout",
     "output_type": "stream",
     "text": [
      "The size of the 'non-discount' sample is 1317.\n",
      "The size of the 'discount' samples is 830.\n"
     ]
    }
   ],
   "source": [
    "print(f\"The size of the 'non-discount' sample is {len(no_discount_df)}.\")\n",
    "print(f\"The size of the 'discount' samples is {len(discount_df)}.\")"
   ]
  },
  {
   "cell_type": "code",
   "execution_count": 549,
   "metadata": {
    "scrolled": false
   },
   "outputs": [
    {
     "name": "stdout",
     "output_type": "stream",
     "text": [
      "P Value is 1.0051255540843165e-10. Therefore, reject null hypothesis.\n",
      "t_stat is -6.511219067380875.\n",
      "Cohen's d: 0.29970787209408895\n",
      "Statistical power: 1.0\n"
     ]
    }
   ],
   "source": [
    "t_stat, p = stats.ttest_ind(no_discount_df, discount_df, equal_var=False) # False indicates test is Welch's\n",
    "\n",
    "# Calculate effect size\n",
    "d = Cohen_d(no_discount_df, discount_df)\n",
    "\n",
    "# Calculate statistical power, i.e. the probability of rejecting null hypothesis given that it is false\n",
    "power = power_analysis.solve_power(effect_size=d, nobs1=len(no_discount_df), alpha=.025)\n",
    "\n",
    "print(f'P Value is {p}. Therefore, reject null hypothesis.') if p < 0.025 else print('Failed to reject Null Hypothesis.')\n",
    "print(f't_stat is {t_stat}.')\n",
    "print(\"Cohen's d:\", d)\n",
    "print(\"Statistical power:\", power)"
   ]
  },
  {
   "cell_type": "markdown",
   "metadata": {},
   "source": [
    "Because the p-value falls below the stated alpha level of 0.025, **I can reject the null hypothesis**. As expected, there all but assuredly is a statistically significant difference between the quantity of products ordered with and without discounts. That being said, **the size of the difference (effect size) is small to moderate**.\n",
    "\n",
    "Now the question is: at what level of discount do we start to see this statistically significant difference? 0.05? 0.20? Let's find out!\n",
    "\n",
    "To answer that, it's necessary to take a closer look at Northwind's five most popular discount levels. I'm going to create a DataFrame, and then execute a for loop that will iterate through a list of the five discount levels, run a t-test on an experimental group from each of those discount levels and the non-discount control group, and then populate the newly created DataFrame with the p-values, Cohen's d, and a determination of whether or not to reject the null hypothesis at each respective discount level.\n",
    "\n",
    "For the purposes of avoiding the Multi Comparisons Problem, I'm going to employ the \"Bonferroni correction\" by dividing my 𝛼 (0.025) by the number of comparisons I'm making (5) to set a new, adjusted threshold for rejecting the null hypothesis. This ends up being 0.005, and implementing this lower threshold dramatically reduces the cumulative likelihood of any Type I Errors occuring."
   ]
  },
  {
   "cell_type": "code",
   "execution_count": 486,
   "metadata": {},
   "outputs": [
    {
     "data": {
      "text/plain": [
       "0.005"
      ]
     },
     "execution_count": 486,
     "metadata": {},
     "output_type": "execute_result"
    }
   ],
   "source": [
    "alpha = 0.025\n",
    "num_comparisons = 5\n",
    "\n",
    "new_alpha = alpha / num_comparisons\n",
    "new_alpha"
   ]
  },
  {
   "cell_type": "code",
   "execution_count": 571,
   "metadata": {
    "scrolled": false
   },
   "outputs": [
    {
     "data": {
      "text/html": [
       "<div>\n",
       "<style scoped>\n",
       "    .dataframe tbody tr th:only-of-type {\n",
       "        vertical-align: middle;\n",
       "    }\n",
       "\n",
       "    .dataframe tbody tr th {\n",
       "        vertical-align: top;\n",
       "    }\n",
       "\n",
       "    .dataframe thead th {\n",
       "        text-align: right;\n",
       "    }\n",
       "</style>\n",
       "<table border=\"1\" class=\"dataframe\">\n",
       "  <thead>\n",
       "    <tr style=\"text-align: right;\">\n",
       "      <th></th>\n",
       "      <th>Discount</th>\n",
       "      <th>P Value</th>\n",
       "      <th>Null Hypothesis</th>\n",
       "      <th>Effect Size</th>\n",
       "      <th>Statistical Power</th>\n",
       "    </tr>\n",
       "  </thead>\n",
       "  <tbody>\n",
       "    <tr>\n",
       "      <th>0</th>\n",
       "      <td>0.05</td>\n",
       "      <td>0.000272</td>\n",
       "      <td>Reject</td>\n",
       "      <td>0.346877</td>\n",
       "      <td>1.000000</td>\n",
       "    </tr>\n",
       "    <tr>\n",
       "      <th>1</th>\n",
       "      <td>0.10</td>\n",
       "      <td>0.037456</td>\n",
       "      <td>Failed</td>\n",
       "      <td>0.195942</td>\n",
       "      <td>0.986699</td>\n",
       "    </tr>\n",
       "    <tr>\n",
       "      <th>2</th>\n",
       "      <td>0.15</td>\n",
       "      <td>0.000172</td>\n",
       "      <td>Reject</td>\n",
       "      <td>0.372404</td>\n",
       "      <td>1.000000</td>\n",
       "    </tr>\n",
       "    <tr>\n",
       "      <th>3</th>\n",
       "      <td>0.20</td>\n",
       "      <td>0.000811</td>\n",
       "      <td>Reject</td>\n",
       "      <td>0.300712</td>\n",
       "      <td>1.000000</td>\n",
       "    </tr>\n",
       "    <tr>\n",
       "      <th>4</th>\n",
       "      <td>0.25</td>\n",
       "      <td>0.000159</td>\n",
       "      <td>Reject</td>\n",
       "      <td>0.366593</td>\n",
       "      <td>1.000000</td>\n",
       "    </tr>\n",
       "  </tbody>\n",
       "</table>\n",
       "</div>"
      ],
      "text/plain": [
       "   Discount   P Value Null Hypothesis  Effect Size  Statistical Power\n",
       "0      0.05  0.000272          Reject     0.346877           1.000000\n",
       "1      0.10  0.037456          Failed     0.195942           0.986699\n",
       "2      0.15  0.000172          Reject     0.372404           1.000000\n",
       "3      0.20  0.000811          Reject     0.300712           1.000000\n",
       "4      0.25  0.000159          Reject     0.366593           1.000000"
      ]
     },
     "execution_count": 571,
     "metadata": {},
     "output_type": "execute_result"
    }
   ],
   "source": [
    "# Create new dataframe in which to load the results\n",
    "discount_significance_df = pd.DataFrame(columns=['Discount', 'P Value', 'Null Hypothesis',\n",
    "                                                 \"Effect Size\", \"Statistical Power\"], index=None)\n",
    "\n",
    "common_discounts = [0.05, 0.10, 0.15, 0.20, 0.25]\n",
    "\n",
    "for i in common_discounts:\n",
    "    experimental = df1[df1['Discount']==i]['Quantity']\n",
    "    st, p = stats.ttest_ind(no_discount_df, experimental, equal_var=False)  # False indicates Welch's t-test\n",
    "    d = Cohen_d(no_discount_df, experimental)\n",
    "    power = power_analysis.solve_power(effect_size=d, nobs1=len(no_discount_df), alpha=.005)\n",
    "    discount_significance_df = discount_significance_df.append({'Discount' : i,\n",
    "                                                                'P Value' : p,\n",
    "                                                                'Null Hypothesis' : 'Reject' if p < 0.005\n",
    "                                                                 else 'Failed', \"Effect Size\" : d,\n",
    "                                                                'Statistical Power' : power},\n",
    "                                                                 ignore_index=True)    \n",
    "\n",
    "discount_significance_df"
   ]
  },
  {
   "cell_type": "markdown",
   "metadata": {},
   "source": [
    "At all but one of the most commonly applied discount levels, there remains (despite a much lower 𝛼) a statistically significant difference in the quantity of products ordered as compared to when there is no applied discount.\n",
    "\n",
    "So, given the available data, **I can confidently conclude that discounts generally do result in higher product quantities per order, with the exception of the .10 discount.**\n",
    "\n",
    "Of course, by limiting my tolerance of Type I Errors (by setting a lower alpha), I necessarily increased my tolerance of Type II Errors (False Negatives). Still, the results suggest that even on highly unlikely chance that a Type II Error occured, the 0.10 discount level would have been less effective at driving up quantity than other commonly used discount levels. This is known by looking at the Cohen's d for that discount level (0.195942), which reveals that discounts of 10% have only a small effect on product quantity per order, if any. The other discount levels, by contrast, have closer to a moderate effect."
   ]
  },
  {
   "cell_type": "code",
   "execution_count": 526,
   "metadata": {},
   "outputs": [
    {
     "name": "stdout",
     "output_type": "stream",
     "text": [
      "0.097971\n",
      "overlap 1.107\n",
      "superiority 0.432\n"
     ]
    },
    {
     "data": {
      "image/png": "[encoded data removed]",
      "text/plain": [
       "<Figure size 432x288 with 1 Axes>"
      ]
     },
     "metadata": {},
     "output_type": "display_data"
    }
   ],
   "source": [
    "# This plot provides a visual of the effect size of 10% discounts\n",
    "# Try with the effect sizes of other discount levels to see how they compare\n",
    "\n",
    "plot_pdfs(cohen_d=0.195942)"
   ]
  },
  {
   "cell_type": "markdown",
   "metadata": {},
   "source": [
    "## Question 2:\n",
    "\n",
    "***Does the customer's region have a statistically significant effect on the total value of an order?***\n",
    "\n",
    "- **Null Hypothesis**: The customer's region does not significantly effect the total value of an order.\n",
    "- **Alternative Hypothesis**: The customer's region does significantly effect the total value of an order."
   ]
  },
  {
   "cell_type": "markdown",
   "metadata": {},
   "source": [
    "For this experiment, **an alpha level of 0.05 will be used**."
   ]
  },
  {
   "cell_type": "markdown",
   "metadata": {},
   "source": [
    "The first step toward answering this question is to extract the appropriate data, namely, Region, OrderID, Quantity, UnitPrice and Discount. To do this I joined the Customer, OrderDetail and Order tables."
   ]
  },
  {
   "cell_type": "code",
   "execution_count": 25,
   "metadata": {
    "scrolled": true
   },
   "outputs": [
    {
     "data": {
      "text/html": [
       "<div>\n",
       "<style scoped>\n",
       "    .dataframe tbody tr th:only-of-type {\n",
       "        vertical-align: middle;\n",
       "    }\n",
       "\n",
       "    .dataframe tbody tr th {\n",
       "        vertical-align: top;\n",
       "    }\n",
       "\n",
       "    .dataframe thead th {\n",
       "        text-align: right;\n",
       "    }\n",
       "</style>\n",
       "<table border=\"1\" class=\"dataframe\">\n",
       "  <thead>\n",
       "    <tr style=\"text-align: right;\">\n",
       "      <th></th>\n",
       "      <th>Region</th>\n",
       "      <th>OrderId</th>\n",
       "      <th>Quantity</th>\n",
       "      <th>UnitPrice</th>\n",
       "      <th>Discount</th>\n",
       "    </tr>\n",
       "  </thead>\n",
       "  <tbody>\n",
       "    <tr>\n",
       "      <th>0</th>\n",
       "      <td>Western Europe</td>\n",
       "      <td>10248</td>\n",
       "      <td>12</td>\n",
       "      <td>14.0</td>\n",
       "      <td>0.0</td>\n",
       "    </tr>\n",
       "    <tr>\n",
       "      <th>1</th>\n",
       "      <td>Western Europe</td>\n",
       "      <td>10248</td>\n",
       "      <td>10</td>\n",
       "      <td>9.8</td>\n",
       "      <td>0.0</td>\n",
       "    </tr>\n",
       "    <tr>\n",
       "      <th>2</th>\n",
       "      <td>Western Europe</td>\n",
       "      <td>10248</td>\n",
       "      <td>5</td>\n",
       "      <td>34.8</td>\n",
       "      <td>0.0</td>\n",
       "    </tr>\n",
       "    <tr>\n",
       "      <th>3</th>\n",
       "      <td>Western Europe</td>\n",
       "      <td>10249</td>\n",
       "      <td>9</td>\n",
       "      <td>18.6</td>\n",
       "      <td>0.0</td>\n",
       "    </tr>\n",
       "    <tr>\n",
       "      <th>4</th>\n",
       "      <td>Western Europe</td>\n",
       "      <td>10249</td>\n",
       "      <td>40</td>\n",
       "      <td>42.4</td>\n",
       "      <td>0.0</td>\n",
       "    </tr>\n",
       "  </tbody>\n",
       "</table>\n",
       "</div>"
      ],
      "text/plain": [
       "           Region  OrderId  Quantity  UnitPrice  Discount\n",
       "0  Western Europe    10248        12       14.0       0.0\n",
       "1  Western Europe    10248        10        9.8       0.0\n",
       "2  Western Europe    10248         5       34.8       0.0\n",
       "3  Western Europe    10249         9       18.6       0.0\n",
       "4  Western Europe    10249        40       42.4       0.0"
      ]
     },
     "execution_count": 25,
     "metadata": {},
     "output_type": "execute_result"
    }
   ],
   "source": [
    "cur.execute(\"\"\"SELECT Region, OrderID, Quantity, UnitPrice, Discount\n",
    "               FROM Customer c\n",
    "               JOIN 'Order' o\n",
    "               ON c.id = o.CustomerID\n",
    "               JOIN OrderDetail d\n",
    "               ON o.id = d.OrderID;\"\"\")\n",
    "df2 = pd.DataFrame(cur.fetchall())\n",
    "df2.columns = [x[0] for x in cur.description]\n",
    "df2.head()"
   ]
  },
  {
   "cell_type": "markdown",
   "metadata": {},
   "source": [
    "The above query gets me part of the way there. Now I'll calculate the total value of each order, taking into account the Quantity, UnitPrice and Discount of each product per Order. Then I'll group the data by Region."
   ]
  },
  {
   "cell_type": "code",
   "execution_count": 26,
   "metadata": {},
   "outputs": [],
   "source": [
    "# Create new feature for TotalOrderPrice\n",
    "df2['TotalOrderPrice'] = df2.Quantity * df2.UnitPrice * (1 - df2.Discount)\n",
    "\n",
    "# Drop the now unneeded features\n",
    "df2.drop(['Quantity', 'UnitPrice', 'Discount'], axis=1, inplace=True)\n",
    "\n",
    "# Sum the price figures of each individual order\n",
    "df2 = df2.groupby(['Region', 'OrderId'])['TotalOrderPrice'].sum().reset_index()\n",
    "\n",
    "# Drop the now unneeded OrderID feature\n",
    "df2.drop('OrderId', axis=1, inplace=True)"
   ]
  },
  {
   "cell_type": "code",
   "execution_count": 27,
   "metadata": {
    "scrolled": false
   },
   "outputs": [
    {
     "data": {
      "text/html": [
       "<div>\n",
       "<style scoped>\n",
       "    .dataframe tbody tr th:only-of-type {\n",
       "        vertical-align: middle;\n",
       "    }\n",
       "\n",
       "    .dataframe tbody tr th {\n",
       "        vertical-align: top;\n",
       "    }\n",
       "\n",
       "    .dataframe thead th {\n",
       "        text-align: right;\n",
       "    }\n",
       "</style>\n",
       "<table border=\"1\" class=\"dataframe\">\n",
       "  <thead>\n",
       "    <tr style=\"text-align: right;\">\n",
       "      <th></th>\n",
       "      <th>Region</th>\n",
       "      <th>TotalOrderPrice</th>\n",
       "    </tr>\n",
       "  </thead>\n",
       "  <tbody>\n",
       "    <tr>\n",
       "      <th>0</th>\n",
       "      <td>British Isles</td>\n",
       "      <td>479.4</td>\n",
       "    </tr>\n",
       "    <tr>\n",
       "      <th>1</th>\n",
       "      <td>British Isles</td>\n",
       "      <td>2645.0</td>\n",
       "    </tr>\n",
       "    <tr>\n",
       "      <th>2</th>\n",
       "      <td>British Isles</td>\n",
       "      <td>1762.0</td>\n",
       "    </tr>\n",
       "    <tr>\n",
       "      <th>3</th>\n",
       "      <td>British Isles</td>\n",
       "      <td>516.8</td>\n",
       "    </tr>\n",
       "    <tr>\n",
       "      <th>4</th>\n",
       "      <td>British Isles</td>\n",
       "      <td>240.4</td>\n",
       "    </tr>\n",
       "  </tbody>\n",
       "</table>\n",
       "</div>"
      ],
      "text/plain": [
       "          Region  TotalOrderPrice\n",
       "0  British Isles            479.4\n",
       "1  British Isles           2645.0\n",
       "2  British Isles           1762.0\n",
       "3  British Isles            516.8\n",
       "4  British Isles            240.4"
      ]
     },
     "execution_count": 27,
     "metadata": {},
     "output_type": "execute_result"
    }
   ],
   "source": [
    "df2.head()"
   ]
  },
  {
   "cell_type": "markdown",
   "metadata": {},
   "source": [
    "Now that the data is queried and formatted, let me get a look at how customer region might impact average order values."
   ]
  },
  {
   "cell_type": "code",
   "execution_count": 28,
   "metadata": {
    "scrolled": false
   },
   "outputs": [
    {
     "data": {
      "image/png": "[encoded data removed]",
      "text/plain": [
       "<Figure size 1080x432 with 1 Axes>"
      ]
     },
     "metadata": {
      "needs_background": "light"
     },
     "output_type": "display_data"
    }
   ],
   "source": [
    "plt.figure(figsize=(15,6))\n",
    "sns.barplot(df2.Region, df2.TotalOrderPrice)\n",
    "plt.xlabel('Customer Region')\n",
    "plt.ylabel('Average Order Value')\n",
    "plt.title(\"Northwind Trader's Average Order Value by Customer Region\")\n",
    "plt.show()"
   ]
  },
  {
   "cell_type": "code",
   "execution_count": 29,
   "metadata": {
    "scrolled": true
   },
   "outputs": [
    {
     "data": {
      "text/html": [
       "<div>\n",
       "<style scoped>\n",
       "    .dataframe tbody tr th:only-of-type {\n",
       "        vertical-align: middle;\n",
       "    }\n",
       "\n",
       "    .dataframe tbody tr th {\n",
       "        vertical-align: top;\n",
       "    }\n",
       "\n",
       "    .dataframe thead th {\n",
       "        text-align: right;\n",
       "    }\n",
       "</style>\n",
       "<table border=\"1\" class=\"dataframe\">\n",
       "  <thead>\n",
       "    <tr style=\"text-align: right;\">\n",
       "      <th></th>\n",
       "      <th>TotalOrderPrice</th>\n",
       "    </tr>\n",
       "    <tr>\n",
       "      <th>Region</th>\n",
       "      <th></th>\n",
       "    </tr>\n",
       "  </thead>\n",
       "  <tbody>\n",
       "    <tr>\n",
       "      <th>British Isles</th>\n",
       "      <td>75</td>\n",
       "    </tr>\n",
       "    <tr>\n",
       "      <th>Central America</th>\n",
       "      <td>21</td>\n",
       "    </tr>\n",
       "    <tr>\n",
       "      <th>Eastern Europe</th>\n",
       "      <td>7</td>\n",
       "    </tr>\n",
       "    <tr>\n",
       "      <th>North America</th>\n",
       "      <td>152</td>\n",
       "    </tr>\n",
       "    <tr>\n",
       "      <th>Northern Europe</th>\n",
       "      <td>55</td>\n",
       "    </tr>\n",
       "    <tr>\n",
       "      <th>Scandinavia</th>\n",
       "      <td>28</td>\n",
       "    </tr>\n",
       "    <tr>\n",
       "      <th>South America</th>\n",
       "      <td>127</td>\n",
       "    </tr>\n",
       "    <tr>\n",
       "      <th>Southern Europe</th>\n",
       "      <td>64</td>\n",
       "    </tr>\n",
       "    <tr>\n",
       "      <th>Western Europe</th>\n",
       "      <td>272</td>\n",
       "    </tr>\n",
       "  </tbody>\n",
       "</table>\n",
       "</div>"
      ],
      "text/plain": [
       "                 TotalOrderPrice\n",
       "Region                          \n",
       "British Isles                 75\n",
       "Central America               21\n",
       "Eastern Europe                 7\n",
       "North America                152\n",
       "Northern Europe               55\n",
       "Scandinavia                   28\n",
       "South America                127\n",
       "Southern Europe               64\n",
       "Western Europe               272"
      ]
     },
     "execution_count": 29,
     "metadata": {},
     "output_type": "execute_result"
    }
   ],
   "source": [
    "df2.groupby('Region').count()"
   ]
  },
  {
   "cell_type": "markdown",
   "metadata": {},
   "source": [
    "The table above shows that the regions generating the most orders for Northwind are Western Europe (272), followed by North America (152) and South America (127), respectively. However, when measuring by average order value (see above bar graph), Northwind's best customers are coming out of North America, Western Europe and Northern Europe, respectively. Hopefully the findings of my hypothesis test back this up.\n",
    "\n",
    "Before moving ahead, though, I ought to deal with Central America, Eastern Europe, and Scandinavia. Nothing against those places, but if I'm going to conduct an ANOVA test, as I plan to do, **I have to satisfy the assumption of homogeneity of variance**. In other words, ANOVA assumes the variance among groups should be approximately equal. This assumption is threatened by the awfully low sample sizes coming out of those three regions (relative to the other seven regions).\n",
    "\n",
    "To make this work, I'll combine each of these three regions with another region, based on geographical proximity: Eastern Europe with Southern Europe, Scandanavia with Northern Europe, and Central America with South America."
   ]
  },
  {
   "cell_type": "code",
   "execution_count": 30,
   "metadata": {},
   "outputs": [],
   "source": [
    "df2.loc[(df2.Region == 'Eastern Europe') | (df2.Region == 'Southern Europe'),'Region'] = 'Southern and Eastern Europe'\n",
    "df2.loc[(df2.Region == 'Scandinavia') | (df2.Region == 'Northern Europe'),'Region'] = 'Northern Europe and Scandinavia'\n",
    "df2.loc[(df2.Region == 'Central America') | (df2.Region == 'South America'),'Region'] = 'South and Central America'"
   ]
  },
  {
   "cell_type": "code",
   "execution_count": 31,
   "metadata": {
    "scrolled": true
   },
   "outputs": [
    {
     "data": {
      "text/html": [
       "<div>\n",
       "<style scoped>\n",
       "    .dataframe tbody tr th:only-of-type {\n",
       "        vertical-align: middle;\n",
       "    }\n",
       "\n",
       "    .dataframe tbody tr th {\n",
       "        vertical-align: top;\n",
       "    }\n",
       "\n",
       "    .dataframe thead th {\n",
       "        text-align: right;\n",
       "    }\n",
       "</style>\n",
       "<table border=\"1\" class=\"dataframe\">\n",
       "  <thead>\n",
       "    <tr style=\"text-align: right;\">\n",
       "      <th></th>\n",
       "      <th>TotalOrderPrice</th>\n",
       "    </tr>\n",
       "    <tr>\n",
       "      <th>Region</th>\n",
       "      <th></th>\n",
       "    </tr>\n",
       "  </thead>\n",
       "  <tbody>\n",
       "    <tr>\n",
       "      <th>British Isles</th>\n",
       "      <td>75</td>\n",
       "    </tr>\n",
       "    <tr>\n",
       "      <th>North America</th>\n",
       "      <td>152</td>\n",
       "    </tr>\n",
       "    <tr>\n",
       "      <th>Northern Europe and Scandinavia</th>\n",
       "      <td>83</td>\n",
       "    </tr>\n",
       "    <tr>\n",
       "      <th>South and Central America</th>\n",
       "      <td>148</td>\n",
       "    </tr>\n",
       "    <tr>\n",
       "      <th>Southern and Eastern Europe</th>\n",
       "      <td>71</td>\n",
       "    </tr>\n",
       "    <tr>\n",
       "      <th>Western Europe</th>\n",
       "      <td>272</td>\n",
       "    </tr>\n",
       "  </tbody>\n",
       "</table>\n",
       "</div>"
      ],
      "text/plain": [
       "                                 TotalOrderPrice\n",
       "Region                                          \n",
       "British Isles                                 75\n",
       "North America                                152\n",
       "Northern Europe and Scandinavia               83\n",
       "South and Central America                    148\n",
       "Southern and Eastern Europe                   71\n",
       "Western Europe                               272"
      ]
     },
     "execution_count": 31,
     "metadata": {},
     "output_type": "execute_result"
    }
   ],
   "source": [
    "df2.groupby('Region').count()"
   ]
  },
  {
   "cell_type": "code",
   "execution_count": 34,
   "metadata": {},
   "outputs": [
    {
     "data": {
      "image/png": "[encoded data removed]",
      "text/plain": [
       "<Figure size 1152x432 with 1 Axes>"
      ]
     },
     "metadata": {
      "needs_background": "light"
     },
     "output_type": "display_data"
    }
   ],
   "source": [
    "# Updated chart to reflect combined regions\n",
    "\n",
    "plt.figure(figsize=(16,6))\n",
    "sns.barplot(df2.Region, df2.TotalOrderPrice)\n",
    "plt.xlabel('Customer Region')\n",
    "plt.ylabel('Average Order Value')\n",
    "plt.title(\"Northwind Trader's Average Order Value by Customer Region\")\n",
    "plt.show()"
   ]
  },
  {
   "cell_type": "markdown",
   "metadata": {},
   "source": [
    "With that taken care of, let me now check to see whether the data satisfies another key assumption of ANOVA: normality."
   ]
  },
  {
   "cell_type": "code",
   "execution_count": 497,
   "metadata": {
    "scrolled": true
   },
   "outputs": [
    {
     "data": {
      "image/png": "[encoded data removed]",
      "text/plain": [
       "<Figure size 720x432 with 1 Axes>"
      ]
     },
     "metadata": {},
     "output_type": "display_data"
    }
   ],
   "source": [
    "plt.figure(figsize=(10, 6))\n",
    "for region in set(df2.Region):\n",
    "    region_group = df2.loc[df2['Region'] == region]\n",
    "    sns.distplot(region_group['TotalOrderPrice'], label=region)\n",
    "    plt.legend()\n",
    "    plt.title('Average Order Value by Region')\n",
    "    plt.xlabel('Average Order Value')"
   ]
  },
  {
   "cell_type": "markdown",
   "metadata": {},
   "source": [
    "Clearly, the data is positively skewed and does not follow a normal distribution (i.e., bell curve). I can remedy this by log transforming the data, making it better suited for use in my upcoming ANOVA test."
   ]
  },
  {
   "cell_type": "code",
   "execution_count": 498,
   "metadata": {
    "scrolled": true
   },
   "outputs": [
    {
     "data": {
      "image/png": "[encoded data removed]",
      "text/plain": [
       "<Figure size 720x432 with 1 Axes>"
      ]
     },
     "metadata": {},
     "output_type": "display_data"
    }
   ],
   "source": [
    "# copy the non-normal data\n",
    "df2_log = df2.copy()\n",
    "\n",
    "# log transform the copied data\n",
    "df2_log['TotalOrderPrice'] = np.log(df2['TotalOrderPrice'])\n",
    "\n",
    "# plot the distributions for the log-transformed data\n",
    "plt.figure(figsize=(10,6))\n",
    "for region in set(df2_log.Region):\n",
    "    region_group = df2_log.loc[df2_log['Region'] == region]\n",
    "    sns.distplot(region_group['TotalOrderPrice'], label=region)\n",
    "    plt.legend()\n",
    "    plt.title('Average Order Value by Region')\n",
    "    plt.xlabel('Average Order Value (Normalized)')"
   ]
  },
  {
   "cell_type": "markdown",
   "metadata": {},
   "source": [
    "Alright, now that I've worked to satisfy normality and homogeneity of variance, it's safe for me to perform an ANOVA test on the data. Let's see whether or not I can reject my null hypothesis! For this, I'll conduct an ANOVA test, which is equivalent to a 2-sided t-test when comparing two groups."
   ]
  },
  {
   "cell_type": "code",
   "execution_count": 499,
   "metadata": {
    "scrolled": true
   },
   "outputs": [
    {
     "name": "stdout",
     "output_type": "stream",
     "text": [
      "               sum_sq     df          F        PR(>F)\n",
      "C(Region)   77.999547    5.0  13.032374  3.285724e-12\n",
      "Residual   951.624641  795.0        NaN           NaN\n"
     ]
    }
   ],
   "source": [
    "formula = \"TotalOrderPrice ~ C(Region)\"\n",
    "lm = ols(formula, df2_log).fit()\n",
    "table = sm.stats.anova_lm(lm, typ=2)\n",
    "print(table)"
   ]
  },
  {
   "cell_type": "markdown",
   "metadata": {},
   "source": [
    "Looking to the far right of this table, I see clearly that Region is an influential factor. Or, better put, it's highly improbable that Region is *not* a statistically significant factor in determining the total price of an order. A value less than my 𝛼 (0.05), as seen here, indicates that **I can reject the null hypothesis**. The data strongly suggests that customer region does effect the average order value. This conclusion is supported by an effect size (f) of 13.032."
   ]
  },
  {
   "cell_type": "markdown",
   "metadata": {},
   "source": [
    "## Question 3:\n",
    "\n",
    "***Does the supplier's region have a statistically significant effect on the per-order revenues from a given product?***\n",
    "\n",
    "- **Null Hypothesis**: The per-order revenue from a given product is uneffected by its supplier's region.\n",
    "- **Alternative Hypothesis**: The per-order revenue from a given product is significantly effected by its supplier's region."
   ]
  },
  {
   "cell_type": "markdown",
   "metadata": {},
   "source": [
    "For this experiment, **an alpha level of 0.05 will be used**."
   ]
  },
  {
   "cell_type": "markdown",
   "metadata": {},
   "source": [
    "We're confident about where the best customers are located. But what about the best suppliers? The first step toward answering this question is to extract the appropriate data, namely, Supplier Region, Id, UnitPrice, Quantity and Discount. To do this I joined the Product, Supplier, and OrderDetail tables."
   ]
  },
  {
   "cell_type": "code",
   "execution_count": 55,
   "metadata": {
    "scrolled": true
   },
   "outputs": [
    {
     "data": {
      "text/html": [
       "<div>\n",
       "<style scoped>\n",
       "    .dataframe tbody tr th:only-of-type {\n",
       "        vertical-align: middle;\n",
       "    }\n",
       "\n",
       "    .dataframe tbody tr th {\n",
       "        vertical-align: top;\n",
       "    }\n",
       "\n",
       "    .dataframe thead th {\n",
       "        text-align: right;\n",
       "    }\n",
       "</style>\n",
       "<table border=\"1\" class=\"dataframe\">\n",
       "  <thead>\n",
       "    <tr style=\"text-align: right;\">\n",
       "      <th></th>\n",
       "      <th>Region</th>\n",
       "      <th>Id</th>\n",
       "      <th>UnitPrice</th>\n",
       "      <th>Quantity</th>\n",
       "      <th>Discount</th>\n",
       "    </tr>\n",
       "  </thead>\n",
       "  <tbody>\n",
       "    <tr>\n",
       "      <th>0</th>\n",
       "      <td>Southern Europe</td>\n",
       "      <td>10248/11</td>\n",
       "      <td>14.0</td>\n",
       "      <td>12</td>\n",
       "      <td>0.0</td>\n",
       "    </tr>\n",
       "    <tr>\n",
       "      <th>1</th>\n",
       "      <td>South-East Asia</td>\n",
       "      <td>10248/42</td>\n",
       "      <td>9.8</td>\n",
       "      <td>10</td>\n",
       "      <td>0.0</td>\n",
       "    </tr>\n",
       "    <tr>\n",
       "      <th>2</th>\n",
       "      <td>Southern Europe</td>\n",
       "      <td>10248/72</td>\n",
       "      <td>34.8</td>\n",
       "      <td>5</td>\n",
       "      <td>0.0</td>\n",
       "    </tr>\n",
       "    <tr>\n",
       "      <th>3</th>\n",
       "      <td>Eastern Asia</td>\n",
       "      <td>10249/14</td>\n",
       "      <td>18.6</td>\n",
       "      <td>9</td>\n",
       "      <td>0.0</td>\n",
       "    </tr>\n",
       "    <tr>\n",
       "      <th>4</th>\n",
       "      <td>NSW</td>\n",
       "      <td>10249/51</td>\n",
       "      <td>42.4</td>\n",
       "      <td>40</td>\n",
       "      <td>0.0</td>\n",
       "    </tr>\n",
       "  </tbody>\n",
       "</table>\n",
       "</div>"
      ],
      "text/plain": [
       "            Region        Id  UnitPrice  Quantity  Discount\n",
       "0  Southern Europe  10248/11       14.0        12       0.0\n",
       "1  South-East Asia  10248/42        9.8        10       0.0\n",
       "2  Southern Europe  10248/72       34.8         5       0.0\n",
       "3     Eastern Asia  10249/14       18.6         9       0.0\n",
       "4              NSW  10249/51       42.4        40       0.0"
      ]
     },
     "execution_count": 55,
     "metadata": {},
     "output_type": "execute_result"
    }
   ],
   "source": [
    "cur.execute(\"\"\"SELECT Region, od.Id, od.UnitPrice, Quantity, Discount\n",
    "               FROM Supplier s\n",
    "               JOIN Product p\n",
    "               ON s.Id = p.SupplierId\n",
    "               JOIN OrderDetail od\n",
    "               ON p.Id = od.ProductId\n",
    "               ;\"\"\")\n",
    "df3 = pd.DataFrame(cur.fetchall())\n",
    "df3.columns = [x[0] for x in cur.description]\n",
    "df3.head()"
   ]
  },
  {
   "cell_type": "code",
   "execution_count": 56,
   "metadata": {
    "scrolled": true
   },
   "outputs": [
    {
     "data": {
      "text/plain": [
       "array(['Southern Europe', 'South-East Asia', 'Eastern Asia', 'NSW',\n",
       "       'North America', 'Northern Europe', 'British Isles', 'Scandinavia',\n",
       "       'Western Europe', 'South America', 'Victoria'], dtype=object)"
      ]
     },
     "execution_count": 56,
     "metadata": {},
     "output_type": "execute_result"
    }
   ],
   "source": [
    "df3.Region.unique()"
   ]
  },
  {
   "cell_type": "markdown",
   "metadata": {},
   "source": [
    "Now I'll calculate the total revenue made on each product per order."
   ]
  },
  {
   "cell_type": "code",
   "execution_count": 57,
   "metadata": {},
   "outputs": [],
   "source": [
    "# Create new feature for TotalOrderPrice\n",
    "df3['RevenuePerProductPerOrder'] = df3.Quantity * df3.UnitPrice * (1 - df3.Discount)\n",
    "\n",
    "# Drop the now unneeded features\n",
    "df3.drop(['Quantity', 'UnitPrice', 'Discount'], axis=1, inplace=True)\n",
    "\n",
    "# Sum the total amount of money spent on each product per order\n",
    "df3 = df3.groupby(['Region', 'Id'])['RevenuePerProductPerOrder'].sum().reset_index()\n",
    "\n",
    "# Drop the now unneeded Id feature\n",
    "df3.drop('Id', axis=1, inplace=True)"
   ]
  },
  {
   "cell_type": "code",
   "execution_count": 58,
   "metadata": {
    "scrolled": true
   },
   "outputs": [
    {
     "data": {
      "text/html": [
       "<div>\n",
       "<style scoped>\n",
       "    .dataframe tbody tr th:only-of-type {\n",
       "        vertical-align: middle;\n",
       "    }\n",
       "\n",
       "    .dataframe tbody tr th {\n",
       "        vertical-align: top;\n",
       "    }\n",
       "\n",
       "    .dataframe thead th {\n",
       "        text-align: right;\n",
       "    }\n",
       "</style>\n",
       "<table border=\"1\" class=\"dataframe\">\n",
       "  <thead>\n",
       "    <tr style=\"text-align: right;\">\n",
       "      <th></th>\n",
       "      <th>Region</th>\n",
       "      <th>RevenuePerProductPerOrder</th>\n",
       "    </tr>\n",
       "  </thead>\n",
       "  <tbody>\n",
       "    <tr>\n",
       "      <th>0</th>\n",
       "      <td>British Isles</td>\n",
       "      <td>2462.4</td>\n",
       "    </tr>\n",
       "    <tr>\n",
       "      <th>1</th>\n",
       "      <td>British Isles</td>\n",
       "      <td>304.0</td>\n",
       "    </tr>\n",
       "    <tr>\n",
       "      <th>2</th>\n",
       "      <td>British Isles</td>\n",
       "      <td>608.0</td>\n",
       "    </tr>\n",
       "    <tr>\n",
       "      <th>3</th>\n",
       "      <td>British Isles</td>\n",
       "      <td>80.0</td>\n",
       "    </tr>\n",
       "    <tr>\n",
       "      <th>4</th>\n",
       "      <td>British Isles</td>\n",
       "      <td>160.0</td>\n",
       "    </tr>\n",
       "  </tbody>\n",
       "</table>\n",
       "</div>"
      ],
      "text/plain": [
       "          Region  RevenuePerProductPerOrder\n",
       "0  British Isles                     2462.4\n",
       "1  British Isles                      304.0\n",
       "2  British Isles                      608.0\n",
       "3  British Isles                       80.0\n",
       "4  British Isles                      160.0"
      ]
     },
     "execution_count": 58,
     "metadata": {},
     "output_type": "execute_result"
    }
   ],
   "source": [
    "df3.head()"
   ]
  },
  {
   "cell_type": "code",
   "execution_count": 59,
   "metadata": {
    "scrolled": false
   },
   "outputs": [
    {
     "data": {
      "image/png": "[encoded data removed]",
      "text/plain": [
       "<Figure size 1152x432 with 1 Axes>"
      ]
     },
     "metadata": {
      "needs_background": "light"
     },
     "output_type": "display_data"
    }
   ],
   "source": [
    "plt.figure(figsize=(16,6))\n",
    "sns.barplot(df3.Region, df3.RevenuePerProductPerOrder)\n",
    "plt.xlabel('Supplier Region')\n",
    "plt.ylabel('Average Revenue Per Product Per Order')\n",
    "plt.title(\"Average Per Product, Per Order Revenue by Supplier Region\")\n",
    "plt.show()"
   ]
  },
  {
   "cell_type": "markdown",
   "metadata": {},
   "source": [
    "It sure looks like the most revenue (per product per order) is coming from Western Europe, followed by New South Wales (in southeastern Australia) and Victoria (also in southeastern Australia). South America generates the least revenue per product per order.\n",
    "\n",
    "Let's see if an ANOVA test will support the alternative hypothesis that the amount spent per product per order is significantly effected by the supplier's region. I'll conduct one in a similar fashion as to how it was done in answering Question 2.\n",
    "\n",
    "But first, as I did before, let me get a look at how many times each supplier region has handled a product-order."
   ]
  },
  {
   "cell_type": "code",
   "execution_count": 60,
   "metadata": {
    "scrolled": true
   },
   "outputs": [
    {
     "data": {
      "text/html": [
       "<div>\n",
       "<style scoped>\n",
       "    .dataframe tbody tr th:only-of-type {\n",
       "        vertical-align: middle;\n",
       "    }\n",
       "\n",
       "    .dataframe tbody tr th {\n",
       "        vertical-align: top;\n",
       "    }\n",
       "\n",
       "    .dataframe thead th {\n",
       "        text-align: right;\n",
       "    }\n",
       "</style>\n",
       "<table border=\"1\" class=\"dataframe\">\n",
       "  <thead>\n",
       "    <tr style=\"text-align: right;\">\n",
       "      <th></th>\n",
       "      <th>RevenuePerProductPerOrder</th>\n",
       "    </tr>\n",
       "    <tr>\n",
       "      <th>Region</th>\n",
       "      <th></th>\n",
       "    </tr>\n",
       "  </thead>\n",
       "  <tbody>\n",
       "    <tr>\n",
       "      <th>British Isles</th>\n",
       "      <td>220</td>\n",
       "    </tr>\n",
       "    <tr>\n",
       "      <th>Eastern Asia</th>\n",
       "      <td>119</td>\n",
       "    </tr>\n",
       "    <tr>\n",
       "      <th>NSW</th>\n",
       "      <td>98</td>\n",
       "    </tr>\n",
       "    <tr>\n",
       "      <th>North America</th>\n",
       "      <td>418</td>\n",
       "    </tr>\n",
       "    <tr>\n",
       "      <th>Northern Europe</th>\n",
       "      <td>153</td>\n",
       "    </tr>\n",
       "    <tr>\n",
       "      <th>Scandinavia</th>\n",
       "      <td>175</td>\n",
       "    </tr>\n",
       "    <tr>\n",
       "      <th>South America</th>\n",
       "      <td>51</td>\n",
       "    </tr>\n",
       "    <tr>\n",
       "      <th>South-East Asia</th>\n",
       "      <td>82</td>\n",
       "    </tr>\n",
       "    <tr>\n",
       "      <th>Southern Europe</th>\n",
       "      <td>229</td>\n",
       "    </tr>\n",
       "    <tr>\n",
       "      <th>Victoria</th>\n",
       "      <td>163</td>\n",
       "    </tr>\n",
       "    <tr>\n",
       "      <th>Western Europe</th>\n",
       "      <td>447</td>\n",
       "    </tr>\n",
       "  </tbody>\n",
       "</table>\n",
       "</div>"
      ],
      "text/plain": [
       "                 RevenuePerProductPerOrder\n",
       "Region                                    \n",
       "British Isles                          220\n",
       "Eastern Asia                           119\n",
       "NSW                                     98\n",
       "North America                          418\n",
       "Northern Europe                        153\n",
       "Scandinavia                            175\n",
       "South America                           51\n",
       "South-East Asia                         82\n",
       "Southern Europe                        229\n",
       "Victoria                               163\n",
       "Western Europe                         447"
      ]
     },
     "execution_count": 60,
     "metadata": {},
     "output_type": "execute_result"
    }
   ],
   "source": [
    "df3.groupby('Region').count()"
   ]
  },
  {
   "cell_type": "markdown",
   "metadata": {},
   "source": [
    "It sure looks like products from Western Europe are showing up in Northwind's orders more often than those from any other world region. They've got the goods! North America is a close second by this measure.\n",
    "\n",
    "Near the bottom of the pack here, somewhat surprisingly, is New South Wales. It's surprisingly, because, as seen earlier, NSW generates the second-most revenue per product per order of all eleven supplier-regions (suggesting perhaps, that while products from NSW don't generate many orders, the products that they do sell are pretty expensive!).\n",
    "\n",
    "Maybe this would be a good time to combine our two Australian states (NSW and Victoria). It's a sensible move geographically, and it helps to reduce any dramatic differences in variance and sample size among our regions.\n",
    "\n",
    "While I'm at it, I'll also maintain some continuity with our work from the previous question by combining Northern Europe and Scandinavia."
   ]
  },
  {
   "cell_type": "code",
   "execution_count": 61,
   "metadata": {},
   "outputs": [],
   "source": [
    "df3.loc[(df3.Region == 'NSW') | (df3.Region == 'Victoria'),'Region'] = 'Australia'\n",
    "df3.loc[(df3.Region == 'Northern Europe') | (df3.Region == 'Scandinavia'),'Region'] = 'North. Europe & Scandinavia'"
   ]
  },
  {
   "cell_type": "code",
   "execution_count": 62,
   "metadata": {
    "scrolled": true
   },
   "outputs": [
    {
     "data": {
      "text/html": [
       "<div>\n",
       "<style scoped>\n",
       "    .dataframe tbody tr th:only-of-type {\n",
       "        vertical-align: middle;\n",
       "    }\n",
       "\n",
       "    .dataframe tbody tr th {\n",
       "        vertical-align: top;\n",
       "    }\n",
       "\n",
       "    .dataframe thead th {\n",
       "        text-align: right;\n",
       "    }\n",
       "</style>\n",
       "<table border=\"1\" class=\"dataframe\">\n",
       "  <thead>\n",
       "    <tr style=\"text-align: right;\">\n",
       "      <th></th>\n",
       "      <th>RevenuePerProductPerOrder</th>\n",
       "    </tr>\n",
       "    <tr>\n",
       "      <th>Region</th>\n",
       "      <th></th>\n",
       "    </tr>\n",
       "  </thead>\n",
       "  <tbody>\n",
       "    <tr>\n",
       "      <th>Australia</th>\n",
       "      <td>261</td>\n",
       "    </tr>\n",
       "    <tr>\n",
       "      <th>British Isles</th>\n",
       "      <td>220</td>\n",
       "    </tr>\n",
       "    <tr>\n",
       "      <th>Eastern Asia</th>\n",
       "      <td>119</td>\n",
       "    </tr>\n",
       "    <tr>\n",
       "      <th>North America</th>\n",
       "      <td>418</td>\n",
       "    </tr>\n",
       "    <tr>\n",
       "      <th>North. Europe &amp; Scandinavia</th>\n",
       "      <td>328</td>\n",
       "    </tr>\n",
       "    <tr>\n",
       "      <th>South America</th>\n",
       "      <td>51</td>\n",
       "    </tr>\n",
       "    <tr>\n",
       "      <th>South-East Asia</th>\n",
       "      <td>82</td>\n",
       "    </tr>\n",
       "    <tr>\n",
       "      <th>Southern Europe</th>\n",
       "      <td>229</td>\n",
       "    </tr>\n",
       "    <tr>\n",
       "      <th>Western Europe</th>\n",
       "      <td>447</td>\n",
       "    </tr>\n",
       "  </tbody>\n",
       "</table>\n",
       "</div>"
      ],
      "text/plain": [
       "                             RevenuePerProductPerOrder\n",
       "Region                                                \n",
       "Australia                                          261\n",
       "British Isles                                      220\n",
       "Eastern Asia                                       119\n",
       "North America                                      418\n",
       "North. Europe & Scandinavia                        328\n",
       "South America                                       51\n",
       "South-East Asia                                     82\n",
       "Southern Europe                                    229\n",
       "Western Europe                                     447"
      ]
     },
     "execution_count": 62,
     "metadata": {},
     "output_type": "execute_result"
    }
   ],
   "source": [
    "df3.groupby('Region').count()"
   ]
  },
  {
   "cell_type": "code",
   "execution_count": 63,
   "metadata": {},
   "outputs": [
    {
     "data": {
      "image/png": "[encoded data removed]",
      "text/plain": [
       "<Figure size 1368x432 with 1 Axes>"
      ]
     },
     "metadata": {
      "needs_background": "light"
     },
     "output_type": "display_data"
    }
   ],
   "source": [
    "# updated chart to reflect combined regions\n",
    "\n",
    "plt.figure(figsize=(19,6))\n",
    "sns.barplot(df3.Region, df3.RevenuePerProductPerOrder)\n",
    "plt.xlabel('Supplier Region')\n",
    "plt.ylabel('Average Revenue Per Product Per Order')\n",
    "plt.title(\"Average Per Product, Per Order Revenue by Supplier Region\")\n",
    "plt.show()"
   ]
  },
  {
   "cell_type": "markdown",
   "metadata": {},
   "source": [
    "With that taken care of, let me now check to see whether the data satisfies another key assumption of ANOVA: normality."
   ]
  },
  {
   "cell_type": "code",
   "execution_count": 904,
   "metadata": {
    "scrolled": false
   },
   "outputs": [
    {
     "data": {
      "image/png": "[encoded data removed]",
      "text/plain": [
       "<Figure size 720x432 with 1 Axes>"
      ]
     },
     "metadata": {
      "needs_background": "light"
     },
     "output_type": "display_data"
    }
   ],
   "source": [
    "plt.figure(figsize=(10,6))\n",
    "for region in set(df3.Region):\n",
    "    region_group = df3.loc[df3['Region'] == region]\n",
    "    sns.distplot(region_group['RevenuePerProductPerOrder'], label=region)\n",
    "    plt.legend()\n",
    "    plt.title('Revenue Per Product Per Order by Region')\n",
    "    plt.xlabel(' Revenue')"
   ]
  },
  {
   "cell_type": "markdown",
   "metadata": {},
   "source": [
    "Clearly, the data is positively skewed, and does not follow a normal distribution (i.e., bell curve). It has a mighty long tail moving to the right. I can remedy this by log transforming the data, making it better suited for use in my upcoming ANOVA test."
   ]
  },
  {
   "cell_type": "code",
   "execution_count": 905,
   "metadata": {
    "scrolled": true
   },
   "outputs": [
    {
     "data": {
      "image/png": "[encoded data removed]",
      "text/plain": [
       "<Figure size 720x432 with 1 Axes>"
      ]
     },
     "metadata": {
      "needs_background": "light"
     },
     "output_type": "display_data"
    }
   ],
   "source": [
    "# copy the non-normal data\n",
    "df3_log = df3.copy()\n",
    "\n",
    "# log transform the copied data\n",
    "df3_log['RevenuePerProductPerOrder'] = np.log(df3['RevenuePerProductPerOrder'])\n",
    "\n",
    "# plot the distributions for the log-transformed data\n",
    "plt.figure(figsize=(10,6))\n",
    "for region in set(df3_log.Region):\n",
    "    region_group = df3_log.loc[df3_log['Region'] == region]\n",
    "    sns.distplot(region_group['RevenuePerProductPerOrder'], label=region)\n",
    "    plt.legend()\n",
    "    plt.xlabel('Revenue Per Product Per Order by Region (Normalized)')"
   ]
  },
  {
   "cell_type": "markdown",
   "metadata": {},
   "source": [
    "These pre- and post-transformation graphs are indicating to me that the revenue data from South American products is very abnormal. So much so that I'm afraid it will adversely effect the performance of my ANOVA test. And because there are only 51 instances of South American products appearing in any orders (very low compared to other regions), I don't mind re-tracing my steps a little and removing South America from the data completely."
   ]
  },
  {
   "cell_type": "code",
   "execution_count": 906,
   "metadata": {},
   "outputs": [],
   "source": [
    "df3 = df3[df3['Region'] != 'South America']"
   ]
  },
  {
   "cell_type": "code",
   "execution_count": 907,
   "metadata": {
    "scrolled": true
   },
   "outputs": [
    {
     "data": {
      "text/plain": [
       "array(['British Isles', 'Eastern Asia', 'Australia', 'North America',\n",
       "       'Northern Europe and Scandinavia', 'South-East Asia',\n",
       "       'Southern Europe', 'Western Europe'], dtype=object)"
      ]
     },
     "execution_count": 907,
     "metadata": {},
     "output_type": "execute_result"
    }
   ],
   "source": [
    "df3.Region.unique()"
   ]
  },
  {
   "cell_type": "markdown",
   "metadata": {},
   "source": [
    "Now that I've settled on these eight regions, I'll again log-transform the data in order to achieve normality."
   ]
  },
  {
   "cell_type": "code",
   "execution_count": 908,
   "metadata": {
    "scrolled": false
   },
   "outputs": [
    {
     "data": {
      "image/png": "[encoded data removed]",
      "text/plain": [
       "<Figure size 720x432 with 1 Axes>"
      ]
     },
     "metadata": {
      "needs_background": "light"
     },
     "output_type": "display_data"
    }
   ],
   "source": [
    "# copy the non-normal data\n",
    "df3_log = df3.copy()\n",
    "\n",
    "# log transform the copied data\n",
    "df3_log['RevenuePerProductPerOrder'] = np.log(df3['RevenuePerProductPerOrder'])\n",
    "\n",
    "# plot the distributions for the log-transformed data\n",
    "plt.figure(figsize=(10,6))\n",
    "for region in set(df3_log.Region):\n",
    "    region_group = df3_log.loc[df3_log['Region'] == region]\n",
    "    sns.distplot(region_group['RevenuePerProductPerOrder'], label=region)\n",
    "    plt.legend()\n",
    "    plt.xlabel('Revenue Per Product Per Order by Region (Normalized)')"
   ]
  },
  {
   "cell_type": "markdown",
   "metadata": {},
   "source": [
    "Alright, now that I've worked to satisfy normality and homogeneity of variance, it's safe for me to perform an ANOVA test on the data. Let's see whether or not I can reject my null hypothesis!"
   ]
  },
  {
   "cell_type": "code",
   "execution_count": 909,
   "metadata": {
    "scrolled": false
   },
   "outputs": [
    {
     "name": "stdout",
     "output_type": "stream",
     "text": [
      "                sum_sq      df          F        PR(>F)\n",
      "C(Region)   184.704659     7.0  21.575373  2.796495e-28\n",
      "Residual   2563.378696  2096.0        NaN           NaN\n"
     ]
    }
   ],
   "source": [
    "formula = \"RevenuePerProductPerOrder ~ C(Region)\"\n",
    "lm = ols(formula, df3_log).fit()\n",
    "table = sm.stats.anova_lm(lm, typ=2)\n",
    "print(table)"
   ]
  },
  {
   "cell_type": "markdown",
   "metadata": {},
   "source": [
    "Looking to the far right of this table, I see clearly that Supplier Region is an influential factor in the revenue per product per order. Or, better put, it's highly improbable that Supplier Region is *not* a statistically significant factor in determining the revenue per product per order. A value less than my 𝛼 (0.05), as seen here, indicates that **I can reject the null hypothesis**. This conclusion is supported by an effect size (f) of 21.575."
   ]
  },
  {
   "cell_type": "markdown",
   "metadata": {},
   "source": [
    "## Question 4:\n",
    "\n",
    "**Does North America generate significantly more or less revenue during Quarters 1 and 4 (Fall/Winter) than they do during Quarters 2 and 3 (Spring/Summer)?**\n",
    "\n",
    "- **Null Hypothesis**: North America does not generate significantly more or less revenue than 1784.19 during Quarters 1 and 4.\n",
    "- **Alternative Hypothesis**: North America generates significantly more or less revenue than 1784.19 during Quarters 1 and 4.\n",
    "\n",
    "Note: 1784.19 is the mean order price for all orders placed in Quarters 2 and 3."
   ]
  },
  {
   "cell_type": "markdown",
   "metadata": {},
   "source": [
    "For this experiment, **an alpha level of 0.05 will be used**."
   ]
  },
  {
   "cell_type": "markdown",
   "metadata": {},
   "source": [
    "The first step toward answering this question is to extract the appropriate data, namely, OrderDate, Region, OrderID, Quantity, UnitPrice and Discount. To do this I'll join the Customer, OrderDetail and Order tables, while extracting the month from the OrderDate."
   ]
  },
  {
   "cell_type": "code",
   "execution_count": 72,
   "metadata": {
    "scrolled": true
   },
   "outputs": [
    {
     "data": {
      "text/html": [
       "<div>\n",
       "<style scoped>\n",
       "    .dataframe tbody tr th:only-of-type {\n",
       "        vertical-align: middle;\n",
       "    }\n",
       "\n",
       "    .dataframe tbody tr th {\n",
       "        vertical-align: top;\n",
       "    }\n",
       "\n",
       "    .dataframe thead th {\n",
       "        text-align: right;\n",
       "    }\n",
       "</style>\n",
       "<table border=\"1\" class=\"dataframe\">\n",
       "  <thead>\n",
       "    <tr style=\"text-align: right;\">\n",
       "      <th></th>\n",
       "      <th>Region</th>\n",
       "      <th>OrderMonth</th>\n",
       "      <th>OrderId</th>\n",
       "      <th>Quantity</th>\n",
       "      <th>UnitPrice</th>\n",
       "      <th>Discount</th>\n",
       "    </tr>\n",
       "  </thead>\n",
       "  <tbody>\n",
       "    <tr>\n",
       "      <th>0</th>\n",
       "      <td>North America</td>\n",
       "      <td>07</td>\n",
       "      <td>10262</td>\n",
       "      <td>12</td>\n",
       "      <td>17.0</td>\n",
       "      <td>0.20</td>\n",
       "    </tr>\n",
       "    <tr>\n",
       "      <th>1</th>\n",
       "      <td>North America</td>\n",
       "      <td>07</td>\n",
       "      <td>10262</td>\n",
       "      <td>15</td>\n",
       "      <td>24.0</td>\n",
       "      <td>0.00</td>\n",
       "    </tr>\n",
       "    <tr>\n",
       "      <th>2</th>\n",
       "      <td>North America</td>\n",
       "      <td>07</td>\n",
       "      <td>10262</td>\n",
       "      <td>2</td>\n",
       "      <td>30.4</td>\n",
       "      <td>0.00</td>\n",
       "    </tr>\n",
       "    <tr>\n",
       "      <th>3</th>\n",
       "      <td>North America</td>\n",
       "      <td>07</td>\n",
       "      <td>10269</td>\n",
       "      <td>60</td>\n",
       "      <td>2.0</td>\n",
       "      <td>0.05</td>\n",
       "    </tr>\n",
       "    <tr>\n",
       "      <th>4</th>\n",
       "      <td>North America</td>\n",
       "      <td>07</td>\n",
       "      <td>10269</td>\n",
       "      <td>20</td>\n",
       "      <td>27.8</td>\n",
       "      <td>0.05</td>\n",
       "    </tr>\n",
       "  </tbody>\n",
       "</table>\n",
       "</div>"
      ],
      "text/plain": [
       "          Region OrderMonth  OrderId  Quantity  UnitPrice  Discount\n",
       "0  North America         07    10262        12       17.0      0.20\n",
       "1  North America         07    10262        15       24.0      0.00\n",
       "2  North America         07    10262         2       30.4      0.00\n",
       "3  North America         07    10269        60        2.0      0.05\n",
       "4  North America         07    10269        20       27.8      0.05"
      ]
     },
     "execution_count": 72,
     "metadata": {},
     "output_type": "execute_result"
    }
   ],
   "source": [
    "cur.execute(\"\"\"SELECT Region, strftime('%m', OrderDate) AS 'OrderMonth',\n",
    "                      OrderID, Quantity, UnitPrice, Discount\n",
    "               FROM Customer c\n",
    "               JOIN 'Order' o\n",
    "               ON c.Id = o.CustomerId\n",
    "               JOIN OrderDetail od\n",
    "               ON o.id = od.OrderID\n",
    "               WHERE Region IS 'North America';\"\"\")\n",
    "df4 = pd.DataFrame(cur.fetchall())\n",
    "df4.columns = [x[0] for x in cur.description]\n",
    "df4.head()"
   ]
  },
  {
   "cell_type": "markdown",
   "metadata": {},
   "source": [
    "As in Question 2, I'm going to use existing features to calculate the total value of each order. Then I'll group the data by OrderMonth."
   ]
  },
  {
   "cell_type": "code",
   "execution_count": 73,
   "metadata": {},
   "outputs": [],
   "source": [
    "# Create new feature for TotalOrderPrice\n",
    "df4['TotalOrderPrice'] = df4.Quantity * df4.UnitPrice * (1 - df4.Discount)\n",
    "\n",
    "# Drop the now unneeded features\n",
    "df4.drop(['Region', 'Quantity', 'UnitPrice', 'Discount'], axis=1, inplace=True)\n",
    "\n",
    "# Sum the price figures of each individual order\n",
    "df4 = df4.groupby(['OrderMonth', 'OrderId'])['TotalOrderPrice'].sum().reset_index()\n",
    "\n",
    "# Drop the now unneeded OrderID feature\n",
    "df4.drop('OrderId', axis=1, inplace=True)"
   ]
  },
  {
   "cell_type": "code",
   "execution_count": 74,
   "metadata": {
    "scrolled": false
   },
   "outputs": [
    {
     "data": {
      "text/html": [
       "<div>\n",
       "<style scoped>\n",
       "    .dataframe tbody tr th:only-of-type {\n",
       "        vertical-align: middle;\n",
       "    }\n",
       "\n",
       "    .dataframe tbody tr th {\n",
       "        vertical-align: top;\n",
       "    }\n",
       "\n",
       "    .dataframe thead th {\n",
       "        text-align: right;\n",
       "    }\n",
       "</style>\n",
       "<table border=\"1\" class=\"dataframe\">\n",
       "  <thead>\n",
       "    <tr style=\"text-align: right;\">\n",
       "      <th></th>\n",
       "      <th>OrderMonth</th>\n",
       "      <th>TotalOrderPrice</th>\n",
       "    </tr>\n",
       "  </thead>\n",
       "  <tbody>\n",
       "    <tr>\n",
       "      <th>0</th>\n",
       "      <td>01</td>\n",
       "      <td>3868.60</td>\n",
       "    </tr>\n",
       "    <tr>\n",
       "      <th>1</th>\n",
       "      <td>01</td>\n",
       "      <td>802.00</td>\n",
       "    </tr>\n",
       "    <tr>\n",
       "      <th>2</th>\n",
       "      <td>01</td>\n",
       "      <td>966.80</td>\n",
       "    </tr>\n",
       "    <tr>\n",
       "      <th>3</th>\n",
       "      <td>01</td>\n",
       "      <td>102.40</td>\n",
       "    </tr>\n",
       "    <tr>\n",
       "      <th>4</th>\n",
       "      <td>01</td>\n",
       "      <td>9194.56</td>\n",
       "    </tr>\n",
       "  </tbody>\n",
       "</table>\n",
       "</div>"
      ],
      "text/plain": [
       "  OrderMonth  TotalOrderPrice\n",
       "0         01          3868.60\n",
       "1         01           802.00\n",
       "2         01           966.80\n",
       "3         01           102.40\n",
       "4         01          9194.56"
      ]
     },
     "execution_count": 74,
     "metadata": {},
     "output_type": "execute_result"
    }
   ],
   "source": [
    "df4.head()"
   ]
  },
  {
   "cell_type": "markdown",
   "metadata": {},
   "source": [
    "Now I'll get a preview of the data by plotting a bar graph, to give me some early indications as to what I might find in my upcoming hypothesis test."
   ]
  },
  {
   "cell_type": "code",
   "execution_count": 75,
   "metadata": {},
   "outputs": [
    {
     "data": {
      "image/png": "[encoded data removed]",
      "text/plain": [
       "<Figure size 576x360 with 1 Axes>"
      ]
     },
     "metadata": {
      "needs_background": "light"
     },
     "output_type": "display_data"
    }
   ],
   "source": [
    "plt.figure(figsize=(8,5))\n",
    "sns.barplot(df4.OrderMonth, df4.TotalOrderPrice)\n",
    "plt.xlabel('Month')\n",
    "plt.ylabel('Average Order Value')\n",
    "plt.title(\"North America's Average Order Value by Month\")\n",
    "plt.show()"
   ]
  },
  {
   "cell_type": "markdown",
   "metadata": {},
   "source": [
    "There's no clear difference or pattern in Total Order Price from month to month, much less quarter to quarter.\n",
    "\n",
    "Let's see if the hypothesis test agrees. And because I'm checking for statistically significant differences on the low *and* the high end, I'll use a two-tailed t-test.\n",
    "\n",
    "But first, I'll set up my control and experimental groups, with the former containing revenue data from Quarters 2 and 3, and the latter containing revenue data from Quarters 1 and 4."
   ]
  },
  {
   "cell_type": "code",
   "execution_count": 76,
   "metadata": {},
   "outputs": [],
   "source": [
    "Q23 = df4[df4['OrderMonth'] != '01']\n",
    "Q23 = Q23[Q23['OrderMonth'] != '02']\n",
    "Q23 = Q23[Q23['OrderMonth'] != '03']\n",
    "Q23 = Q23[Q23['OrderMonth'] != '10']\n",
    "Q23 = Q23[Q23['OrderMonth'] != '11']\n",
    "Q23 = Q23[Q23['OrderMonth'] != '12']\n",
    "\n",
    "Q14 = df4[df4['OrderMonth'] != '04']\n",
    "Q14 = Q14[Q14['OrderMonth'] != '05']\n",
    "Q14 = Q14[Q14['OrderMonth'] != '06']\n",
    "Q14 = Q14[Q14['OrderMonth'] != '07']\n",
    "Q14 = Q14[Q14['OrderMonth'] != '08']\n",
    "Q14 = Q14[Q14['OrderMonth'] != '09']"
   ]
  },
  {
   "cell_type": "code",
   "execution_count": 77,
   "metadata": {},
   "outputs": [],
   "source": [
    "Q23 = Q23['TotalOrderPrice'] # control group (Quarters 2, 3)\n",
    "Q14 = Q14['TotalOrderPrice'] # experimental group (Quarters 1, 4)"
   ]
  },
  {
   "cell_type": "code",
   "execution_count": 78,
   "metadata": {},
   "outputs": [
    {
     "data": {
      "text/plain": [
       "2083.9971951219513"
      ]
     },
     "execution_count": 78,
     "metadata": {},
     "output_type": "execute_result"
    }
   ],
   "source": [
    "Q14.mean()"
   ]
  },
  {
   "cell_type": "code",
   "execution_count": 70,
   "metadata": {},
   "outputs": [
    {
     "name": "stdout",
     "output_type": "stream",
     "text": [
      "P Value is 0.405685361601112. Failed to reject Null Hypothesis.\n"
     ]
    }
   ],
   "source": [
    "# perform two-tailed Welch's t-test\n",
    "t_stat, p = stats.ttest_ind(Q23, Q14, equal_var=False) # False indicates Welch's t-test\n",
    "\n",
    "# Calculate effect size\n",
    "d = Cohen_d(Q23, Q14)\n",
    "\n",
    "# Calculate statistical power, i.e. the probability of rejecting null hypothesis given that it is false\n",
    "power = power = power_analysis.solve_power(effect_size=d, nobs1=len(Q23), alpha=.05)\n",
    "\n",
    "print(f'P Value is {p}. Reject the Null Hypothesis.') if p < 0.05 else print(f'P Value is {p}. Failed to reject Null Hypothesis.')\n",
    "print(\"Cohen's d:\", d) if p < 0.05 else None\n",
    "print(\"Statistical power:\", power) if p < 0.05 else None"
   ]
  },
  {
   "cell_type": "markdown",
   "metadata": {},
   "source": [
    "With a P-value of 0.40 (well above my alpha level of 0.05) I have failed to reject the null hypothesis. There does not appear to be a statistically significant difference in revenue between Quarters 1 and 4, and Quarters 2 and 3. Good to know!"
   ]
  },
  {
   "cell_type": "markdown",
   "metadata": {},
   "source": [
    "## Conclusion:\n",
    "\n",
    "- Discounts generally result in higher product quantities per order (with the possible exception of the .10 discount).\n",
    "- Customer region plays a significant role in average order value.\n",
    "- Supplier region plays an even more significant role in average order value.\n",
    "- North Americans typically spend just as much in Quarters 1 and 4 as they do in Quarters 2 and 3."
   ]
  },
  {
   "cell_type": "markdown",
   "metadata": {},
   "source": [
    "## Future work:\n",
    "\n",
    "- Is there a certain subset of the customer population for which discounts are more effective than others?\n",
    "- Are there any particular products that customers are more motivated to buy at discount than others?\n",
    "- Given the relatively low activity, as well as low yields, does it make sense to continue selling products from South America?\n",
    "- Does month of the year have a significant impact on sales when broken down geographically? (i.e., Does the southern hemisphere spend more during certain parts of year than the northern hemisphere?)"
   ]
  }
 ],
 "metadata": {
  "kernelspec": {
   "display_name": "learn-env",
   "language": "python",
   "name": "learn-env"
  },
  "language_info": {
   "codemirror_mode": {
    "name": "ipython",
    "version": 3
   },
   "file_extension": ".py",
   "mimetype": "text/x-python",
   "name": "python",
   "nbconvert_exporter": "python",
   "pygments_lexer": "ipython3",
   "version": "3.6.6"
  }
 },
 "nbformat": 4,
 "nbformat_minor": 2
}
